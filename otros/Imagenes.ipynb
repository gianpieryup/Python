{
 "cells": [
  {
   "cell_type": "code",
   "execution_count": 37,
   "metadata": {},
   "outputs": [],
   "source": [
    "from PIL import Image, ImageDraw, ImageFont\n",
    "\n",
    "img = Image.new('RGB', (400, 200), color='white')\n",
    "myFont = ImageFont.truetype(\"arial.ttf\", 25, encoding=\"unic\")\n",
    "\n",
    "d = ImageDraw.Draw(img)\n",
    "text = '''GIANPIER\n",
    "YUPANQUI'''\n",
    "d.text((200, 40), text , fill='black', align =\"left\", font=myFont)\n",
    "\n",
    "\n",
    "img.save('imagen ctexto.png')\n",
    "#display(img)"
   ]
  },
  {
   "cell_type": "markdown",
   "id": "4fe3d548",
   "metadata": {},
   "source": [
    "# Campo Lista Spark"
   ]
  },
  {
   "cell_type": "markdown",
   "id": "f4bf6279",
   "metadata": {},
   "source": [
    "Para usar pyspark en una notebook debemos tener"
   ]
  },
  {
   "cell_type": "code",
   "execution_count": 1,
   "id": "456c75f1",
   "metadata": {},
   "outputs": [
    {
     "name": "stdout",
     "output_type": "stream",
     "text": [
      "c:\\Users\\GIANPIER\\anaconda3\n"
     ]
    }
   ],
   "source": [
    "import os\n",
    "import sys\n",
    "\n",
    "print(os.path.dirname(sys.executable))"
   ]
  },
  {
   "cell_type": "code",
   "execution_count": null,
   "id": "d8cdceee",
   "metadata": {},
   "outputs": [],
   "source": [
    "#pip install findspark"
   ]
  },
  {
   "cell_type": "code",
   "execution_count": 1,
   "id": "e9bdfe92",
   "metadata": {},
   "outputs": [],
   "source": [
    "import findspark\n",
    "findspark.init()"
   ]
  },
  {
   "cell_type": "code",
   "execution_count": 2,
   "id": "69108065",
   "metadata": {},
   "outputs": [
    {
     "name": "stdout",
     "output_type": "stream",
     "text": [
      "Apache Spark Version :3.3.1\n"
     ]
    }
   ],
   "source": [
    "# Creamos la session de Spark\n",
    "import pyspark\n",
    "from pyspark.sql import SparkSession\n",
    "from pyspark.sql.types import StructType, StructField, StringType, ArrayType\n",
    "from pyspark.sql.functions import *\n",
    "\n",
    "spark = SparkSession.builder.getOrCreate()\n",
    "print('Apache Spark Version :' + spark.sparkContext.version)\n",
    "\n",
    "sc = spark.sparkContext"
   ]
  },
  {
   "cell_type": "code",
   "execution_count": 4,
   "id": "e71f39ec",
   "metadata": {},
   "outputs": [
    {
     "name": "stdout",
     "output_type": "stream",
     "text": [
      "+--------------------+--------------+\n",
      "|                json|partition_date|\n",
      "+--------------------+--------------+\n",
      "|{\"startAt\": \"MOBI...|    2023-04-20|\n",
      "+--------------------+--------------+\n",
      "\n"
     ]
    }
   ],
   "source": [
    "jsonString = \"\"\"{\"startAt\": \"MOBILE\", \"nup\": \"06533942\", \"validationStatus\": [{\"flow\": \"camenores\", \"status\": {\"code\": \"NOT_A_TEENAGER_ERROR\", \"description\": \"The person is not a teenager\", \"detail\": \"The person is not a teenager, it doesn't have the required age for this product\", \"date\": {\"$date\": 1698624030886}}, \"passed\": false}, {\"flow\": \"supercuenta\", \"passed\": true}, {\"flow\": \"paquetes\", \"passed\": true}], \"beginningFlow\": \"paquetes\"}\"\"\"\n",
    "df_json=spark.createDataFrame([(jsonString, \"2023-04-20\")],[\"json\",\"partition_date\"])\n",
    "df_json.show()"
   ]
  },
  {
   "cell_type": "markdown",
   "id": "3de898d7",
   "metadata": {},
   "source": [
    "Bueno, ya tenemos la columna en un dataframe (este paso anterior no sera necesario porque ustedes se conectan al lago)\n",
    "\n",
    "Ahora vamos a pasarle la estructura que deberia tener este texto plano, que es **como queremos que se comporte**\n",
    "\n",
    "Al verlo intuimos lo siguiente: Una lista de estructuras, la cual se escribe en SPARK de la siguiente forma"
   ]
  },
  {
   "cell_type": "code",
   "execution_count": 5,
   "id": "1a08b606",
   "metadata": {},
   "outputs": [],
   "source": [
    "schema = StructType(\n",
    "      [\n",
    "        StructField('startAt',  StringType(), True ),\n",
    "        StructField('nup', StringType(), True),\n",
    "        StructField('validationStatus', ArrayType(StructType([\n",
    "            StructField('flow',  StringType(), True ),\n",
    "            StructField('passed',  StringType(), True ),\n",
    "            StructField('status',  StructType([\n",
    "                StructField('code',  StringType(), True ),\n",
    "                StructField('date',  StructType([\n",
    "                    StructField('$date',  StringType(), True ) \n",
    "                ]), True ),\n",
    "                StructField('description',  StringType(), True ),\n",
    "                StructField('detail',  StringType(), True )\n",
    "            ]), True )\n",
    "        ])), True),\n",
    "        StructField('beginningFlow', StringType(), True)\n",
    "      ]\n",
    "    )\n",
    "\n",
    "#  creamos una nueva columna: withColumn(\"un alias\", from_json(\"la columna a parsear\", el_schema_creado))\n",
    "mapped_df = df_json.withColumn(\"spark\", from_json(\"json\", schema))"
   ]
  },
  {
   "cell_type": "code",
   "execution_count": 7,
   "id": "c8830a65",
   "metadata": {},
   "outputs": [
    {
     "name": "stdout",
     "output_type": "stream",
     "text": [
      "root\n",
      " |-- json: string (nullable = true)\n",
      " |-- partition_date: string (nullable = true)\n",
      " |-- spark: struct (nullable = true)\n",
      " |    |-- startAt: string (nullable = true)\n",
      " |    |-- nup: string (nullable = true)\n",
      " |    |-- validationStatus: array (nullable = true)\n",
      " |    |    |-- element: struct (containsNull = true)\n",
      " |    |    |    |-- flow: string (nullable = true)\n",
      " |    |    |    |-- passed: string (nullable = true)\n",
      " |    |    |    |-- status: struct (nullable = true)\n",
      " |    |    |    |    |-- code: string (nullable = true)\n",
      " |    |    |    |    |-- date: struct (nullable = true)\n",
      " |    |    |    |    |    |-- $date: string (nullable = true)\n",
      " |    |    |    |    |-- description: string (nullable = true)\n",
      " |    |    |    |    |-- detail: string (nullable = true)\n",
      " |    |-- beginningFlow: string (nullable = true)\n",
      "\n"
     ]
    }
   ],
   "source": [
    "mapped_df.printSchema()"
   ]
  },
  {
   "cell_type": "code",
   "execution_count": 8,
   "id": "2dadd248",
   "metadata": {},
   "outputs": [
    {
     "name": "stdout",
     "output_type": "stream",
     "text": [
      "root\n",
      " |-- startAt: string (nullable = true)\n",
      " |-- nup: string (nullable = true)\n",
      " |-- validationStatus: array (nullable = true)\n",
      " |    |-- element: struct (containsNull = true)\n",
      " |    |    |-- flow: string (nullable = true)\n",
      " |    |    |-- passed: string (nullable = true)\n",
      " |    |    |-- status: struct (nullable = true)\n",
      " |    |    |    |-- code: string (nullable = true)\n",
      " |    |    |    |-- date: struct (nullable = true)\n",
      " |    |    |    |    |-- $date: string (nullable = true)\n",
      " |    |    |    |-- description: string (nullable = true)\n",
      " |    |    |    |-- detail: string (nullable = true)\n",
      " |-- beginningFlow: string (nullable = true)\n",
      " |-- partition_date: string (nullable = true)\n",
      "\n"
     ]
    }
   ],
   "source": [
    "df = mapped_df.select(col(\"spark.*\"),col(\"partition_date\"))\n",
    "df.printSchema()"
   ]
  },
  {
   "cell_type": "code",
   "execution_count": 19,
   "id": "eb646d0d",
   "metadata": {},
   "outputs": [
    {
     "data": {
      "text/plain": [
       "DataFrame[startAt: string, nup: string, validationStatus: array<struct<flow:string,passed:string,status:struct<code:string,date:struct<$date:string>,description:string,detail:string>>>, beginningFlow: string, partition_date: string, elem1: struct<flow:string,passed:string,status:struct<code:string,date:struct<$date:string>,description:string,detail:string>>]"
      ]
     },
     "execution_count": 19,
     "metadata": {},
     "output_type": "execute_result"
    }
   ],
   "source": [
    "df2 = df.withColumn(\"elem1\", df.validationStatus[0])\n",
    "df2"
   ]
  },
  {
   "cell_type": "code",
   "execution_count": 24,
   "id": "46890113",
   "metadata": {},
   "outputs": [
    {
     "name": "stdout",
     "output_type": "stream",
     "text": [
      "+---------+------+--------------------+-------------+--------------------+--------------------+\n",
      "|     flow|passed|                code|        $date|         description|              detail|\n",
      "+---------+------+--------------------+-------------+--------------------+--------------------+\n",
      "|camenores| false|NOT_A_TEENAGER_ERROR|1698624030886|The person is not...|The person is not...|\n",
      "+---------+------+--------------------+-------------+--------------------+--------------------+\n",
      "\n"
     ]
    }
   ],
   "source": [
    "df2.select('elem1.flow','elem1.passed','elem1.status.code','elem1.status.date.$date','elem1.status.description','elem1.status.detail').show()"
   ]
  },
  {
   "cell_type": "code",
   "execution_count": null,
   "id": "958d451a",
   "metadata": {},
   "outputs": [],
   "source": [
    "# poner las 3 columnas\n",
    "Ademas hay que ver la captura que explica cual es la mejore forma\n"
   ]
  },
  {
   "cell_type": "markdown",
   "id": "789624f4",
   "metadata": {},
   "source": [
    "## Desarmar la Lista\n",
    "\n",
    "Ahora con la funcion `explode` directamente al campo, creara un nuevo registro por cada elemento de la lista"
   ]
  },
  {
   "cell_type": "code",
   "execution_count": 7,
   "id": "2ae75285",
   "metadata": {},
   "outputs": [
    {
     "name": "stdout",
     "output_type": "stream",
     "text": [
      "+-------------------------+--------------+--------------------+--------------------+\n",
      "|actividad_regimen_general|partition_date|                 act|             act_exp|\n",
      "+-------------------------+--------------+--------------------+--------------------+\n",
      "|     [{\"descripcionAct...|    2023-04-20|[{CULTIVO DE TRIG...|{CULTIVO DE TRIGO...|\n",
      "|     [{\"descripcionAct...|    2023-04-20|[{CULTIVO DE TRIG...|{CULTIVO DE MAÍZ,...|\n",
      "|     [{\"descripcionAct...|    2023-04-20|[{CULTIVO DE TRIG...|{CULTIVO DE PASTO...|\n",
      "|     [{\"descripcionAct...|    2023-04-20|[{CULTIVO DE TRIG...|{CULTIVO DE GIRAS...|\n",
      "|     [{\"descripcionAct...|    2023-04-20|[{CULTIVO DE TRIG...|{CRÍA DE GANADO B...|\n",
      "|     [{\"descripcionAct...|    2023-04-20|[{CULTIVO DE TRIG...|{INVERNADA  DE GA...|\n",
      "|     [{\"descripcionAct...|    2023-04-20|[{CULTIVO DE TRIG...|{SERVICIOS INMOBI...|\n",
      "+-------------------------+--------------+--------------------+--------------------+\n",
      "\n"
     ]
    }
   ],
   "source": [
    "df2 = mapped_df.withColumn(\"act_exp\", explode(\"act\"))\n",
    "df2.show()"
   ]
  },
  {
   "cell_type": "markdown",
   "id": "99096698",
   "metadata": {},
   "source": [
    "Para acceder a los campos dentro de las estructuras\n",
    "\n",
    "Usamos la notacion punto `(\"x.y\")`   "
   ]
  },
  {
   "cell_type": "code",
   "execution_count": 8,
   "id": "56880f10",
   "metadata": {},
   "outputs": [
    {
     "name": "stdout",
     "output_type": "stream",
     "text": [
      "+--------------------+-----+--------+\n",
      "|descripcionActividad|orden| periodo|\n",
      "+--------------------+-----+--------+\n",
      "|    CULTIVO DE TRIGO|  3.0|201311.0|\n",
      "|     CULTIVO DE MAÍZ|  4.0|201311.0|\n",
      "|CULTIVO DE PASTOS...|  6.0|201311.0|\n",
      "|  CULTIVO DE GIRASOL|  5.0|201311.0|\n",
      "|CRÍA DE GANADO BO...|  1.0|201311.0|\n",
      "|INVERNADA  DE GAN...|  2.0|201311.0|\n",
      "|SERVICIOS INMOBIL...|  7.0|201405.0|\n",
      "+--------------------+-----+--------+\n",
      "\n"
     ]
    }
   ],
   "source": [
    "df2.select(\"act_exp.descripcionActividad\",\"act_exp.orden\",\"act_exp.periodo\").show()"
   ]
  },
  {
   "cell_type": "code",
   "execution_count": 9,
   "id": "3398e178",
   "metadata": {},
   "outputs": [
    {
     "name": "stdout",
     "output_type": "stream",
     "text": [
      "+--------------------+-----------+-----------+-----+--------+\n",
      "|descripcionActividad|idActividad|nomenclador|orden| periodo|\n",
      "+--------------------+-----------+-----------+-----+--------+\n",
      "|    CULTIVO DE TRIGO|    11112.0|      883.0|  3.0|201311.0|\n",
      "|     CULTIVO DE MAÍZ|    11121.0|      883.0|  4.0|201311.0|\n",
      "|CULTIVO DE PASTOS...|    11130.0|      883.0|  6.0|201311.0|\n",
      "|  CULTIVO DE GIRASOL|    11291.0|      883.0|  5.0|201311.0|\n",
      "|CRÍA DE GANADO BO...|    14113.0|      883.0|  1.0|201311.0|\n",
      "|INVERNADA  DE GAN...|    14114.0|      883.0|  2.0|201311.0|\n",
      "|SERVICIOS INMOBIL...|   681098.0|      883.0|  7.0|201405.0|\n",
      "+--------------------+-----------+-----------+-----+--------+\n",
      "\n"
     ]
    }
   ],
   "source": [
    "# Si quieren todo pueden usar el siempre u confiable (*)\n",
    "df2.select(\"act_exp.*\").show()"
   ]
  },
  {
   "cell_type": "markdown",
   "id": "d71b8ab4",
   "metadata": {},
   "source": [
    "## NO todo es color de ✿\n",
    "\n",
    "Como nos puede venir cualquier cosa, dado que no tenemos idea. \n",
    "\n",
    "A tener en cuenta los siguientes casos"
   ]
  },
  {
   "cell_type": "code",
   "execution_count": 10,
   "id": "b2fb3d7e",
   "metadata": {},
   "outputs": [
    {
     "name": "stdout",
     "output_type": "stream",
     "text": [
      "+-----------+-------------------------+--------------+\n",
      "|  cuit_cuil|actividad_regimen_general|partition_date|\n",
      "+-----------+-------------------------+--------------+\n",
      "|27200000000|                         |    2023-05-01|\n",
      "|27206500000|                     null|    2023-05-01|\n",
      "|27206512800|                       []|    2023-05-01|\n",
      "|20330161532|     [{\"descripcionAct...|    2023-05-01|\n",
      "+-----------+-------------------------+--------------+\n",
      "\n"
     ]
    }
   ],
   "source": [
    "l = [(\"27200000000\",\"\", \"2023-05-01\"),\n",
    "     (\"27206500000\",\"null\", \"2023-05-01\"),\n",
    "     (\"27206512800\",\"[]\", \"2023-05-01\"),\n",
    "     (\"20330161532\",'[{\"descripcionActividad\":\"CULTIVO DE CEREALES N.C.P., EXCEPTO LOS DE USO FORRAJERO\",\"idActividad\":11119.0,\"nomenclador\":883.0,\"orden\":3.0,\"periodo\":202105.0},{\"descripcionActividad\":\"VENTA AL POR MENOR DE PRODUCTOS COSMÉTICOS, DE TOCADOR Y DE PERFUMERÍA\",\"idActividad\":477320.0,\"nomenclador\":883.0,\"orden\":1.0,\"periodo\":202105.0},{\"descripcionActividad\":\"SERVICIOS DE ASESORAMIENTO, DIRECCIÓN Y GESTIÓN EMPRESARIAL N.C.P.\",\"idActividad\":702099.0,\"nomenclador\":883.0,\"orden\":2.0,\"periodo\":202103.0}]',\"2023-05-01\")]\n",
    "\n",
    "\n",
    "df_json=spark.createDataFrame(l,[\"cuit_cuil\",\"actividad_regimen_general\",\"partition_date\"])\n",
    "df_json.show()"
   ]
  },
  {
   "cell_type": "code",
   "execution_count": 11,
   "id": "245cd200",
   "metadata": {},
   "outputs": [],
   "source": [
    "schema = ArrayType(StructType(\n",
    "      [\n",
    "        StructField('descripcionActividad',  StringType(), True ),\n",
    "        StructField('idActividad', StringType(), True),\n",
    "        StructField('nomenclador', StringType(), True),\n",
    "        StructField('orden', StringType(), True),\n",
    "        StructField('periodo', StringType(), True)\n",
    "      ]\n",
    "    ))"
   ]
  },
  {
   "cell_type": "code",
   "execution_count": 12,
   "id": "82114cea",
   "metadata": {},
   "outputs": [
    {
     "name": "stdout",
     "output_type": "stream",
     "text": [
      "+-----------+-------------------------+--------------+--------------------+\n",
      "|  cuit_cuil|actividad_regimen_general|partition_date|                 act|\n",
      "+-----------+-------------------------+--------------+--------------------+\n",
      "|27200000000|                         |    2023-05-01|                null|\n",
      "|27206500000|                     null|    2023-05-01|                null|\n",
      "|27206512800|                       []|    2023-05-01|                  []|\n",
      "|20330161532|     [{\"descripcionAct...|    2023-05-01|[{CULTIVO DE CERE...|\n",
      "+-----------+-------------------------+--------------+--------------------+\n",
      "\n"
     ]
    }
   ],
   "source": [
    "mapped_df = df_json.withColumn(\"act\",from_json(\"actividad_regimen_general\", schema))\n",
    "mapped_df.show()"
   ]
  },
  {
   "cell_type": "markdown",
   "id": "10b4a2f5",
   "metadata": {},
   "source": [
    "#### Desarmar Lista\n",
    "\n",
    "Notemos que perdemos registros, exactamente los que no cumplen con la structura"
   ]
  },
  {
   "cell_type": "code",
   "execution_count": 13,
   "id": "a1251c6d",
   "metadata": {},
   "outputs": [
    {
     "name": "stdout",
     "output_type": "stream",
     "text": [
      "+-----------+-------------------------+--------------+--------------------+--------------------+\n",
      "|  cuit_cuil|actividad_regimen_general|partition_date|                 act|             act_exp|\n",
      "+-----------+-------------------------+--------------+--------------------+--------------------+\n",
      "|20330161532|     [{\"descripcionAct...|    2023-05-01|[{CULTIVO DE CERE...|{CULTIVO DE CEREA...|\n",
      "|20330161532|     [{\"descripcionAct...|    2023-05-01|[{CULTIVO DE CERE...|{VENTA AL POR MEN...|\n",
      "|20330161532|     [{\"descripcionAct...|    2023-05-01|[{CULTIVO DE CERE...|{SERVICIOS DE ASE...|\n",
      "+-----------+-------------------------+--------------+--------------------+--------------------+\n",
      "\n"
     ]
    }
   ],
   "source": [
    "df = mapped_df.withColumn(\"act_exp\", explode(\"act\"))\n",
    "df.show()"
   ]
  },
  {
   "cell_type": "markdown",
   "id": "f3b2731d",
   "metadata": {},
   "source": [
    "Pero yo no quiero perder filas por que ese campo quiero que en todo caso se mantenga ese campo en **NULL** y no perder los demas valores\n",
    "\n",
    "[explode_outer](https://stackoverflow.com/questions/39739072/spark-sql-how-to-explode-without-losing-null-values)  : Spark 2.2+"
   ]
  },
  {
   "cell_type": "code",
   "execution_count": 14,
   "id": "d389413a",
   "metadata": {},
   "outputs": [
    {
     "name": "stdout",
     "output_type": "stream",
     "text": [
      "+-----------+-------------------------+--------------+--------------------+--------------------+\n",
      "|  cuit_cuil|actividad_regimen_general|partition_date|                 act|             act_exp|\n",
      "+-----------+-------------------------+--------------+--------------------+--------------------+\n",
      "|27200000000|                         |    2023-05-01|                null|                null|\n",
      "|27206500000|                     null|    2023-05-01|                null|                null|\n",
      "|27206512800|                       []|    2023-05-01|                  []|                null|\n",
      "|20330161532|     [{\"descripcionAct...|    2023-05-01|[{CULTIVO DE CERE...|{CULTIVO DE CEREA...|\n",
      "|20330161532|     [{\"descripcionAct...|    2023-05-01|[{CULTIVO DE CERE...|{VENTA AL POR MEN...|\n",
      "|20330161532|     [{\"descripcionAct...|    2023-05-01|[{CULTIVO DE CERE...|{SERVICIOS DE ASE...|\n",
      "+-----------+-------------------------+--------------+--------------------+--------------------+\n",
      "\n"
     ]
    }
   ],
   "source": [
    "df2 = mapped_df.withColumn(\"act_exp\", explode_outer(\"act\"))\n",
    "df2.show()"
   ]
  },
  {
   "cell_type": "code",
   "execution_count": 15,
   "id": "d67693ae",
   "metadata": {},
   "outputs": [
    {
     "name": "stdout",
     "output_type": "stream",
     "text": [
      "+-----------+--------------------+-----+--------+\n",
      "|  cuit_cuil|descripcionActividad|orden| periodo|\n",
      "+-----------+--------------------+-----+--------+\n",
      "|27200000000|                null| null|    null|\n",
      "|27206500000|                null| null|    null|\n",
      "|27206512800|                null| null|    null|\n",
      "|20330161532|CULTIVO DE CEREAL...|  3.0|202105.0|\n",
      "|20330161532|VENTA AL POR MENO...|  1.0|202105.0|\n",
      "|20330161532|SERVICIOS DE ASES...|  2.0|202103.0|\n",
      "+-----------+--------------------+-----+--------+\n",
      "\n"
     ]
    }
   ],
   "source": [
    "df2.select(\"cuit_cuil\",\"act_exp.descripcionActividad\",\"act_exp.orden\",\"act_exp.periodo\").show()"
   ]
  }
 ],
 "metadata": {
  "kernelspec": {
   "display_name": "Python 3 (ipykernel)",
   "language": "python",
   "name": "python3"
  },
  "language_info": {
   "codemirror_mode": {
    "name": "ipython",
    "version": 3
   },
   "file_extension": ".py",
   "mimetype": "text/x-python",
   "name": "python",
   "nbconvert_exporter": "python",
   "pygments_lexer": "ipython3",
   "version": "3.8.8"
  }
 },
 "nbformat": 4,
 "nbformat_minor": 5
}
