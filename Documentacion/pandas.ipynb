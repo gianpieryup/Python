{
 "cells": [
  {
   "cell_type": "markdown",
   "id": "ed6315f4",
   "metadata": {},
   "source": [
    "# Pandas\n",
    "\n",
    "Algunas pildoras sobre el uso optimizado de Pandas\n",
    "\n",
    "Pandas se basa en NumPy (operaciones matematicas) de forma optimizada\n",
    "\n",
    "Que desventajas tenemos en **Pandas** ?\n",
    "- **Tipos de datos**: int64, string, datetime, etc : pero **Numpy** no trabaja optimamente con **string** y **datetime**\n",
    "    - Lo que hace python es crear un tipo de dato **Object** -> esto consume mucha memoria\n"
   ]
  },
  {
   "cell_type": "markdown",
   "id": "c61dd241",
   "metadata": {},
   "source": [
    "- **Numpy** trabaja con arreglos de datos del mismo tipo, pero como en la vida real no todas las columnas son del mismo tipo de dato.\n",
    "\n",
    "Lo que hace **Pandas** es trabajarlo como: cada **columna** del dataframe es un arreglo unidimesional -> El **almacenamiento** se realiza de manera COLUMNAR"
   ]
  },
  {
   "cell_type": "markdown",
   "id": "7cd443ac",
   "metadata": {},
   "source": [
    "Por ejemplo tirarle un SUM a total de ventas en ambos casos\n",
    "\n",
    "En este caso es mas eficiente la lectura COLUMNAR a ir recorriendo FILA por FILA\n",
    "\n",
    "Pandas frente a esto quiere intrudicr Pyarrow\n",
    "\n",
    "\n",
    "TALLER\n",
    "\n",
    "NYC Yellow Taxi Trip Data\n",
    "Descargamos este CSV\n",
    "\n",
    "Puede ser desde Kaggle\n",
    "\n",
    "Este Dataset pesa 1.6 GB"
   ]
  },
  {
   "cell_type": "code",
   "execution_count": 1,
   "id": "d0fd25be",
   "metadata": {},
   "outputs": [],
   "source": [
    "import pandas as pd"
   ]
  },
  {
   "cell_type": "markdown",
   "id": "65e0fde7",
   "metadata": {},
   "source": [
    "Demora un poquito porque tiene que leer los datos, **inferir** su tipo de dato y almacenar todo eso en memoria"
   ]
  },
  {
   "cell_type": "code",
   "execution_count": 3,
   "id": "e452d704",
   "metadata": {},
   "outputs": [],
   "source": [
    "df = pd.read_csv(\"C:/Users/GIANPIER/Downloads/yellow_tripdata_2016-01.csv\")"
   ]
  },
  {
   "cell_type": "code",
   "execution_count": 4,
   "id": "78e971e3",
   "metadata": {},
   "outputs": [
    {
     "name": "stdout",
     "output_type": "stream",
     "text": [
      "<class 'pandas.core.frame.DataFrame'>\n",
      "RangeIndex: 10906858 entries, 0 to 10906857\n",
      "Data columns (total 19 columns):\n",
      " #   Column                 Dtype  \n",
      "---  ------                 -----  \n",
      " 0   VendorID               int64  \n",
      " 1   tpep_pickup_datetime   object \n",
      " 2   tpep_dropoff_datetime  object \n",
      " 3   passenger_count        int64  \n",
      " 4   trip_distance          float64\n",
      " 5   pickup_longitude       float64\n",
      " 6   pickup_latitude        float64\n",
      " 7   RatecodeID             int64  \n",
      " 8   store_and_fwd_flag     object \n",
      " 9   dropoff_longitude      float64\n",
      " 10  dropoff_latitude       float64\n",
      " 11  payment_type           int64  \n",
      " 12  fare_amount            float64\n",
      " 13  extra                  float64\n",
      " 14  mta_tax                float64\n",
      " 15  tip_amount             float64\n",
      " 16  tolls_amount           float64\n",
      " 17  improvement_surcharge  float64\n",
      " 18  total_amount           float64\n",
      "dtypes: float64(12), int64(4), object(3)\n",
      "memory usage: 1.5+ GB\n"
     ]
    }
   ],
   "source": [
    "df.info()"
   ]
  },
  {
   "cell_type": "markdown",
   "id": "a0bdbb25",
   "metadata": {},
   "source": [
    "Notemos los tipos de datos **object** (Objetos Python)\n",
    "\n",
    "Ademas notemos la ultima marte que menciona *memory usage* pero no cuenta los punteros de los **object**\n",
    "\n",
    "Si queremos saber el real usamos la opcion **deep**."
   ]
  },
  {
   "cell_type": "code",
   "execution_count": 5,
   "id": "933ce8dd",
   "metadata": {},
   "outputs": [
    {
     "name": "stdout",
     "output_type": "stream",
     "text": [
      "<class 'pandas.core.frame.DataFrame'>\n",
      "RangeIndex: 10906858 entries, 0 to 10906857\n",
      "Data columns (total 19 columns):\n",
      " #   Column                 Dtype  \n",
      "---  ------                 -----  \n",
      " 0   VendorID               int64  \n",
      " 1   tpep_pickup_datetime   object \n",
      " 2   tpep_dropoff_datetime  object \n",
      " 3   passenger_count        int64  \n",
      " 4   trip_distance          float64\n",
      " 5   pickup_longitude       float64\n",
      " 6   pickup_latitude        float64\n",
      " 7   RatecodeID             int64  \n",
      " 8   store_and_fwd_flag     object \n",
      " 9   dropoff_longitude      float64\n",
      " 10  dropoff_latitude       float64\n",
      " 11  payment_type           int64  \n",
      " 12  fare_amount            float64\n",
      " 13  extra                  float64\n",
      " 14  mta_tax                float64\n",
      " 15  tip_amount             float64\n",
      " 16  tolls_amount           float64\n",
      " 17  improvement_surcharge  float64\n",
      " 18  total_amount           float64\n",
      "dtypes: float64(12), int64(4), object(3)\n",
      "memory usage: 3.4 GB\n"
     ]
    }
   ],
   "source": [
    "df.info(memory_usage=\"deep\")"
   ]
  },
  {
   "cell_type": "markdown",
   "id": "37a438cd",
   "metadata": {},
   "source": [
    "Como vemos verdaderamente ocupa mucho espacio en memoria.\n",
    "\n",
    "Entre al administrador de tareas y lo comprobe el visual se esta comiendo 3 GB de memoria ram\n",
    "\n",
    "Ahora vamos a implementar pyarrow"
   ]
  },
  {
   "cell_type": "markdown",
   "id": "c9b4aad9",
   "metadata": {},
   "source": [
    "## Requisitos\n",
    "\n",
    "pandas (>=2.0) , verifica y si no lo tienes actualiza tu version con :\n",
    "\n",
    "``pip install --upgrade pandas``"
   ]
  },
  {
   "cell_type": "code",
   "execution_count": 2,
   "id": "7afe2a78",
   "metadata": {},
   "outputs": [
    {
     "name": "stdout",
     "output_type": "stream",
     "text": [
      "2.0.3\n"
     ]
    }
   ],
   "source": [
    "import pandas as pd\n",
    "print(pd.__version__)"
   ]
  },
  {
   "cell_type": "code",
   "execution_count": 3,
   "id": "3c5e6138",
   "metadata": {},
   "outputs": [],
   "source": [
    "import pyarrow"
   ]
  },
  {
   "cell_type": "code",
   "execution_count": 4,
   "id": "e3d925a2",
   "metadata": {},
   "outputs": [],
   "source": [
    "df = pd.read_csv(\"C:/Users/GIANPIER/Downloads/yellow_tripdata_2016-01.csv\", dtype_backend=\"pyarrow\")"
   ]
  },
  {
   "cell_type": "code",
   "execution_count": 6,
   "id": "e1caa72d",
   "metadata": {},
   "outputs": [
    {
     "name": "stdout",
     "output_type": "stream",
     "text": [
      "<class 'pandas.core.frame.DataFrame'>\n",
      "RangeIndex: 10906858 entries, 0 to 10906857\n",
      "Data columns (total 19 columns):\n",
      " #   Column                 Dtype          \n",
      "---  ------                 -----          \n",
      " 0   VendorID               int64[pyarrow] \n",
      " 1   tpep_pickup_datetime   string[pyarrow]\n",
      " 2   tpep_dropoff_datetime  string[pyarrow]\n",
      " 3   passenger_count        int64[pyarrow] \n",
      " 4   trip_distance          double[pyarrow]\n",
      " 5   pickup_longitude       double[pyarrow]\n",
      " 6   pickup_latitude        double[pyarrow]\n",
      " 7   RatecodeID             int64[pyarrow] \n",
      " 8   store_and_fwd_flag     string[pyarrow]\n",
      " 9   dropoff_longitude      double[pyarrow]\n",
      " 10  dropoff_latitude       double[pyarrow]\n",
      " 11  payment_type           int64[pyarrow] \n",
      " 12  fare_amount            double[pyarrow]\n",
      " 13  extra                  double[pyarrow]\n",
      " 14  mta_tax                double[pyarrow]\n",
      " 15  tip_amount             double[pyarrow]\n",
      " 16  tolls_amount           double[pyarrow]\n",
      " 17  improvement_surcharge  double[pyarrow]\n",
      " 18  total_amount           double[pyarrow]\n",
      "dtypes: double[pyarrow](12), int64[pyarrow](4), string[pyarrow](3)\n",
      "memory usage: 1.8 GB\n"
     ]
    }
   ],
   "source": [
    "df.info()"
   ]
  },
  {
   "cell_type": "markdown",
   "id": "1b5a2480",
   "metadata": {},
   "source": [
    "Ahora no estamos creando un objeto Python (Object) por cada string, si no que ahora usamos el tipo de dato definido por *pyarrow*\n",
    "\n",
    "Lo cual va a disminuit el consumor de memoria"
   ]
  },
  {
   "cell_type": "code",
   "execution_count": 7,
   "id": "5dfcfefd",
   "metadata": {},
   "outputs": [
    {
     "name": "stdout",
     "output_type": "stream",
     "text": [
      "<class 'pandas.core.frame.DataFrame'>\n",
      "RangeIndex: 10906858 entries, 0 to 10906857\n",
      "Data columns (total 19 columns):\n",
      " #   Column                 Dtype          \n",
      "---  ------                 -----          \n",
      " 0   VendorID               int64[pyarrow] \n",
      " 1   tpep_pickup_datetime   string[pyarrow]\n",
      " 2   tpep_dropoff_datetime  string[pyarrow]\n",
      " 3   passenger_count        int64[pyarrow] \n",
      " 4   trip_distance          double[pyarrow]\n",
      " 5   pickup_longitude       double[pyarrow]\n",
      " 6   pickup_latitude        double[pyarrow]\n",
      " 7   RatecodeID             int64[pyarrow] \n",
      " 8   store_and_fwd_flag     string[pyarrow]\n",
      " 9   dropoff_longitude      double[pyarrow]\n",
      " 10  dropoff_latitude       double[pyarrow]\n",
      " 11  payment_type           int64[pyarrow] \n",
      " 12  fare_amount            double[pyarrow]\n",
      " 13  extra                  double[pyarrow]\n",
      " 14  mta_tax                double[pyarrow]\n",
      " 15  tip_amount             double[pyarrow]\n",
      " 16  tolls_amount           double[pyarrow]\n",
      " 17  improvement_surcharge  double[pyarrow]\n",
      " 18  total_amount           double[pyarrow]\n",
      "dtypes: double[pyarrow](12), int64[pyarrow](4), string[pyarrow](3)\n",
      "memory usage: 1.8 GB\n"
     ]
    }
   ],
   "source": [
    "df.info(memory_usage=\"deep\")"
   ]
  }
 ],
 "metadata": {
  "kernelspec": {
   "display_name": "base",
   "language": "python",
   "name": "python3"
  },
  "language_info": {
   "codemirror_mode": {
    "name": "ipython",
    "version": 3
   },
   "file_extension": ".py",
   "mimetype": "text/x-python",
   "name": "python",
   "nbconvert_exporter": "python",
   "pygments_lexer": "ipython3",
   "version": "3.8.8"
  }
 },
 "nbformat": 4,
 "nbformat_minor": 5
}
