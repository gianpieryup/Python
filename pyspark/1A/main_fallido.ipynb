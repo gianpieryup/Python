{
 "cells": [
  {
   "cell_type": "code",
   "execution_count": 10,
   "metadata": {},
   "outputs": [
    {
     "name": "stdout",
     "output_type": "stream",
     "text": [
      "Apache Spark Version :3.3.1\n"
     ]
    }
   ],
   "source": [
    "import findspark\n",
    "findspark.init()\n",
    "\n",
    "# Creamos la session de Spark\n",
    "import pyspark\n",
    "from pyspark.sql import SparkSession\n",
    "from pyspark.sql.types import *\n",
    "from pyspark.sql.functions import *\n",
    "\n",
    "spark = SparkSession.builder.getOrCreate()\n",
    "print('Apache Spark Version :' + spark.sparkContext.version)"
   ]
  },
  {
   "cell_type": "code",
   "execution_count": 11,
   "metadata": {},
   "outputs": [],
   "source": [
    "df_json = spark.read.text(\"file_fallido.csv\")"
   ]
  },
  {
   "cell_type": "code",
   "execution_count": 3,
   "metadata": {},
   "outputs": [
    {
     "data": {
      "text/plain": [
       "StructType([StructField('resource', ArrayType(StructType([StructField('fecha', StringType(), True), StructField('id_ponsa', StringType(), True)]), True), True)])"
      ]
     },
     "execution_count": 3,
     "metadata": {},
     "output_type": "execute_result"
    }
   ],
   "source": [
    "# # Structura\n",
    "# json_schema_df = spark.read.json(df.rdd.map(lambda row: row.value))\n",
    "# json_schema = json_schema_df.schema\n",
    "# json_schema"
   ]
  },
  {
   "cell_type": "code",
   "execution_count": 12,
   "metadata": {},
   "outputs": [],
   "source": [
    "json_schema = StructType([StructField('resource', ArrayType(\n",
    "        StructType([StructField('fecha', StringType(), True), \n",
    "                    StructField('id_ponsa', StringType(), True)]), True), True)])"
   ]
  },
  {
   "cell_type": "code",
   "execution_count": 13,
   "metadata": {},
   "outputs": [],
   "source": [
    "#Apply the schema to payload to read the data\n",
    "df_details = df_json.withColumn(\"parsed_data\", from_json(df_json[\"value\"], json_schema)).drop(\"value\")"
   ]
  },
  {
   "cell_type": "code",
   "execution_count": 14,
   "metadata": {},
   "outputs": [
    {
     "name": "stdout",
     "output_type": "stream",
     "text": [
      "root\n",
      " |-- parsed_data: struct (nullable = true)\n",
      " |    |-- resource: array (nullable = true)\n",
      " |    |    |-- element: struct (containsNull = true)\n",
      " |    |    |    |-- fecha: string (nullable = true)\n",
      " |    |    |    |-- id_ponsa: string (nullable = true)\n",
      "\n"
     ]
    }
   ],
   "source": [
    "df_details.printSchema()"
   ]
  },
  {
   "cell_type": "code",
   "execution_count": 15,
   "metadata": {},
   "outputs": [
    {
     "name": "stdout",
     "output_type": "stream",
     "text": [
      "root\n",
      " |-- resource: array (nullable = true)\n",
      " |    |-- element: struct (containsNull = true)\n",
      " |    |    |-- fecha: string (nullable = true)\n",
      " |    |    |-- id_ponsa: string (nullable = true)\n",
      "\n"
     ]
    }
   ],
   "source": [
    "#Bajamas un nivel para no hacer 'parsed_data.columna'\n",
    "df = df_details.select(col(\"parsed_data.*\"))\n",
    "df.printSchema()"
   ]
  },
  {
   "cell_type": "code",
   "execution_count": 16,
   "metadata": {},
   "outputs": [
    {
     "name": "stdout",
     "output_type": "stream",
     "text": [
      "EXPLOIDE delays\n"
     ]
    }
   ],
   "source": [
    "print(\"EXPLOIDE delays\")\n",
    "df = df.withColumn(\"rs\", explode_outer(\"resource\"))"
   ]
  },
  {
   "cell_type": "code",
   "execution_count": 17,
   "metadata": {},
   "outputs": [
    {
     "name": "stdout",
     "output_type": "stream",
     "text": [
      "+--------+----+\n",
      "|resource|  rs|\n",
      "+--------+----+\n",
      "|    null|null|\n",
      "+--------+----+\n",
      "\n"
     ]
    }
   ],
   "source": [
    "df.select('*').show()"
   ]
  }
 ],
 "metadata": {
  "kernelspec": {
   "display_name": "base",
   "language": "python",
   "name": "python3"
  },
  "language_info": {
   "codemirror_mode": {
    "name": "ipython",
    "version": 3
   },
   "file_extension": ".py",
   "mimetype": "text/x-python",
   "name": "python",
   "nbconvert_exporter": "python",
   "pygments_lexer": "ipython3",
   "version": "3.8.8"
  }
 },
 "nbformat": 4,
 "nbformat_minor": 2
}
