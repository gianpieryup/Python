{
 "cells": [
  {
   "cell_type": "markdown",
   "id": "4fe3d548",
   "metadata": {},
   "source": [
    "# Mongo en Spark"
   ]
  },
  {
   "cell_type": "markdown",
   "id": "f4bf6279",
   "metadata": {},
   "source": [
    "Para usar pyspark en una notebook debemos tener"
   ]
  },
  {
   "cell_type": "code",
   "execution_count": null,
   "id": "d8cdceee",
   "metadata": {},
   "outputs": [],
   "source": [
    "#pip install findspark"
   ]
  },
  {
   "cell_type": "code",
   "execution_count": 2,
   "id": "69108065",
   "metadata": {},
   "outputs": [],
   "source": [
    "import findspark\n",
    "findspark.init()\n",
    "\n",
    "# Creamos la session de Spark\n",
    "import pyspark\n",
    "from pyspark.sql import SparkSession\n",
    "from pyspark.sql.types import StructType, StructField, StringType, ArrayType\n",
    "from pyspark.sql.functions import *\n",
    "\n",
    "spark = SparkSession.builder.getOrCreate()\n",
    "\n",
    "sc = spark.sparkContext"
   ]
  },
  {
   "cell_type": "markdown",
   "id": "61cde081",
   "metadata": {},
   "source": [
    "### Cargamos el dataframe\n",
    "\n",
    "En este ejemplo partimos de un texto plano que se descargo de mongo, un JSON que te llega en una sola linea\n",
    "\n",
    "Pueden usar la pagina web para parsear el string y que se vea bonito en formato JSON\n",
    "https://jsonformatter.curiousconcept.com/#"
   ]
  },
  {
   "cell_type": "code",
   "execution_count": 3,
   "id": "e71f39ec",
   "metadata": {},
   "outputs": [],
   "source": [
    "jsonString = \"\"\"{\"_id\": {\"$oid\": \"644187e5da7c796a5d6d7b3a\"}, \"isClient\": false, \"offerData\": {\"packages\": [{\"_id\": \"INFINITY_GOLD\", \"subProduct\": \"0001\", \"name\": \"Infinity Gold\", \"maxAssistance\": 1148000.0, \"cards\": [{\"_id\": \"VISA\", \"levels\": [{\"_id\": \"GOLD\", \"limits\": [24000, 30000, 36000, 42000, 48000, 60000]}]}, {\"_id\": \"AMERICAN_EXPRESS\", \"levels\": [{\"_id\": \"GOLD\", \"limits\": [24000, 30000, 36000, 42000, 48000, 60000]}, {\"_id\": \"INTERNATIONAL\", \"limits\": [24000, 30000, 36000, 42000, 48000, 60000]}]}, {\"_id\": \"MASTERCARD\", \"levels\": [{\"_id\": \"GOLD\", \"limits\": [24000, 30000, 36000, 42000, 48000, 60000]}, {\"_id\": \"INTERNATIONAL\", \"limits\": [24000, 30000, 36000, 42000, 48000, 60000]}]}], \"loans\": [{\"_id\": \"agreed_personal_loan\", \"minGrantable\": 0, \"maxGrantable\": 1148000}], \"accounts\": [{\"_id\": \"UNIQUE_ACCOUNT\", \"name\": \"Cuenta Unica\", \"currency\": \"ARS\", \"overdraftLimits\": [75, 80, 100, 150, 200]}, {\"_id\": \"UNIQUE_ACCOUNT\", \"name\": \"Cuenta Unica\", \"currency\": \"USD\", \"overdraftLimits\": [0]}]}, {\"_id\": \"INFINITY_ONE\", \"subProduct\": \"0500\", \"name\": \"Infinity Uno\", \"maxAssistance\": 803600.0, \"cards\": [{\"_id\": \"VISA\", \"levels\": [{\"_id\": \"INTERNATIONAL\", \"limits\": [24000, 30000, 36000, 42000, 48000, 60000]}]}, {\"_id\": \"AMERICAN_EXPRESS\", \"levels\": [{\"_id\": \"INTERNATIONAL\", \"limits\": [24000, 30000, 36000, 42000, 48000, 60000]}]}, {\"_id\": \"MASTERCARD\", \"levels\": [{\"_id\": \"INTERNATIONAL\", \"limits\": [24000, 30000, 36000, 42000, 48000, 60000]}]}], \"loans\": [{\"_id\": \"agreed_personal_loan\", \"minGrantable\": 0, \"maxGrantable\": 1148000}], \"accounts\": [{\"_id\": \"UNIQUE_ACCOUNT\", \"name\": \"Cuenta Unica\", \"currency\": \"ARS\", \"overdraftLimits\": [75, 80, 100, 150, 200]}, {\"_id\": \"UNIQUE_ACCOUNT\", \"name\": \"Cuenta Unica\", \"currency\": \"USD\", \"overdraftLimits\": [0]}]}, {\"_id\": \"SUPER_CUENTA_TRES\", \"subProduct\": \"1750\", \"name\": \"Supercuenta 3\", \"maxAssistance\": 562520.0, \"cards\": [{\"_id\": \"VISA\", \"levels\": [{\"_id\": \"INTERNATIONAL\", \"limits\": [24000, 30000, 36000, 42000, 48000, 60000]}]}], \"loans\": [{\"_id\": \"agreed_personal_loan\", \"minGrantable\": 0, \"maxGrantable\": 1148000}], \"accounts\": [{\"_id\": \"UNIQUE_ACCOUNT\", \"name\": \"Cuenta Unica\", \"currency\": \"ARS\", \"overdraftLimits\": [75, 80, 100, 150, 200]}, {\"_id\": \"UNIQUE_ACCOUNT\", \"name\": \"Cuenta Unica\", \"currency\": \"USD\", \"overdraftLimits\": [0]}]}, {\"_id\": \"SUPER_CUENTA_UNO\", \"subProduct\": \"2191\", \"name\": \"Supercuenta Uno con PPP\", \"maxAssistance\": 1148000.0, \"cards\": [], \"loans\": [{\"_id\": \"agreed_personal_loan\", \"minGrantable\": 0, \"maxGrantable\": 1148000}], \"accounts\": []}], \"offerId\": \"bfa196f12e0d639259bea3155cd34ef3\"}, \"createdDate\": {\"$date\": 1682016229538}, \"segment\": \"MA\"}\"\"\"\n",
    "df_json=spark.createDataFrame([(jsonString, \"2023-05-01\")],[\"json\",\"partition_date\"])"
   ]
  },
  {
   "cell_type": "markdown",
   "id": "3de898d7",
   "metadata": {},
   "source": [
    "Esto es lo que tendremos cuando bajemos de mongo, una tabla muy similar a esta estructura"
   ]
  },
  {
   "cell_type": "code",
   "execution_count": 4,
   "id": "891ac071",
   "metadata": {},
   "outputs": [
    {
     "name": "stdout",
     "output_type": "stream",
     "text": [
      "+--------------------+--------------+\n",
      "|                json|partition_date|\n",
      "+--------------------+--------------+\n",
      "|{\"_id\": {\"$oid\": ...|    2023-05-01|\n",
      "+--------------------+--------------+\n",
      "\n"
     ]
    }
   ],
   "source": [
    "df_json.show()"
   ]
  },
  {
   "cell_type": "markdown",
   "id": "df03c532",
   "metadata": {},
   "source": [
    "### Determine the schema of the JSON payload from the column\n",
    "\n",
    "Aqui en base al archivo el propio spark va a inferir el formato del json (es decir su schema)"
   ]
  },
  {
   "cell_type": "code",
   "execution_count": 5,
   "id": "de66923f",
   "metadata": {},
   "outputs": [],
   "source": [
    "json_schema_df = spark.read.json(df_json.rdd.map(lambda row: row.json))\n",
    "json_schema = json_schema_df.schema"
   ]
  },
  {
   "cell_type": "code",
   "execution_count": 6,
   "metadata": {},
   "outputs": [
    {
     "data": {
      "text/plain": [
       "StructType([StructField('_id', StructType([StructField('$oid', StringType(), True)]), True), StructField('createdDate', StructType([StructField('$date', LongType(), True)]), True), StructField('isClient', BooleanType(), True), StructField('offerData', StructType([StructField('offerId', StringType(), True), StructField('packages', ArrayType(StructType([StructField('_id', StringType(), True), StructField('accounts', ArrayType(StructType([StructField('_id', StringType(), True), StructField('currency', StringType(), True), StructField('name', StringType(), True), StructField('overdraftLimits', ArrayType(LongType(), True), True)]), True), True), StructField('cards', ArrayType(StructType([StructField('_id', StringType(), True), StructField('levels', ArrayType(StructType([StructField('_id', StringType(), True), StructField('limits', ArrayType(LongType(), True), True)]), True), True)]), True), True), StructField('loans', ArrayType(StructType([StructField('_id', StringType(), True), StructField('maxGrantable', LongType(), True), StructField('minGrantable', LongType(), True)]), True), True), StructField('maxAssistance', DoubleType(), True), StructField('name', StringType(), True), StructField('subProduct', StringType(), True)]), True), True)]), True), StructField('segment', StringType(), True)])"
      ]
     },
     "execution_count": 6,
     "metadata": {},
     "output_type": "execute_result"
    }
   ],
   "source": [
    "json_schema"
   ]
  },
  {
   "cell_type": "markdown",
   "id": "ced4d0e1",
   "metadata": {},
   "source": [
    "### Apply the schema to payload to read the data"
   ]
  },
  {
   "cell_type": "code",
   "execution_count": 6,
   "id": "eed2e7f3",
   "metadata": {
    "scrolled": true
   },
   "outputs": [
    {
     "name": "stdout",
     "output_type": "stream",
     "text": [
      "root\n",
      " |-- partition_date: string (nullable = true)\n",
      " |-- parsed_data: struct (nullable = true)\n",
      " |    |-- _id: struct (nullable = true)\n",
      " |    |    |-- $oid: string (nullable = true)\n",
      " |    |-- createdDate: struct (nullable = true)\n",
      " |    |    |-- $date: long (nullable = true)\n",
      " |    |-- isClient: boolean (nullable = true)\n",
      " |    |-- offerData: struct (nullable = true)\n",
      " |    |    |-- offerId: string (nullable = true)\n",
      " |    |    |-- packages: array (nullable = true)\n",
      " |    |    |    |-- element: struct (containsNull = true)\n",
      " |    |    |    |    |-- _id: string (nullable = true)\n",
      " |    |    |    |    |-- accounts: array (nullable = true)\n",
      " |    |    |    |    |    |-- element: struct (containsNull = true)\n",
      " |    |    |    |    |    |    |-- _id: string (nullable = true)\n",
      " |    |    |    |    |    |    |-- currency: string (nullable = true)\n",
      " |    |    |    |    |    |    |-- name: string (nullable = true)\n",
      " |    |    |    |    |    |    |-- overdraftLimits: array (nullable = true)\n",
      " |    |    |    |    |    |    |    |-- element: long (containsNull = true)\n",
      " |    |    |    |    |-- cards: array (nullable = true)\n",
      " |    |    |    |    |    |-- element: struct (containsNull = true)\n",
      " |    |    |    |    |    |    |-- _id: string (nullable = true)\n",
      " |    |    |    |    |    |    |-- levels: array (nullable = true)\n",
      " |    |    |    |    |    |    |    |-- element: struct (containsNull = true)\n",
      " |    |    |    |    |    |    |    |    |-- _id: string (nullable = true)\n",
      " |    |    |    |    |    |    |    |    |-- limits: array (nullable = true)\n",
      " |    |    |    |    |    |    |    |    |    |-- element: long (containsNull = true)\n",
      " |    |    |    |    |-- loans: array (nullable = true)\n",
      " |    |    |    |    |    |-- element: struct (containsNull = true)\n",
      " |    |    |    |    |    |    |-- _id: string (nullable = true)\n",
      " |    |    |    |    |    |    |-- maxGrantable: long (nullable = true)\n",
      " |    |    |    |    |    |    |-- minGrantable: long (nullable = true)\n",
      " |    |    |    |    |-- maxAssistance: double (nullable = true)\n",
      " |    |    |    |    |-- name: string (nullable = true)\n",
      " |    |    |    |    |-- subProduct: string (nullable = true)\n",
      " |    |-- segment: string (nullable = true)\n",
      "\n"
     ]
    }
   ],
   "source": [
    "df_details = df_json.withColumn(\"parsed_data\", from_json(df_json[\"json\"], json_schema)).drop(\"json\")\n",
    "df_details.printSchema()"
   ]
  },
  {
   "cell_type": "markdown",
   "id": "f7ae1c72",
   "metadata": {},
   "source": [
    "## OJO\n",
    "\n",
    "|-- element: struct (containsNull = true)\n",
    "Esto no es un campo"
   ]
  },
  {
   "cell_type": "code",
   "execution_count": 7,
   "id": "2e98ae9c",
   "metadata": {
    "scrolled": true
   },
   "outputs": [
    {
     "name": "stdout",
     "output_type": "stream",
     "text": [
      "root\n",
      " |-- _id: struct (nullable = true)\n",
      " |    |-- $oid: string (nullable = true)\n",
      " |-- createdDate: struct (nullable = true)\n",
      " |    |-- $date: long (nullable = true)\n",
      " |-- isClient: boolean (nullable = true)\n",
      " |-- offerData: struct (nullable = true)\n",
      " |    |-- offerId: string (nullable = true)\n",
      " |    |-- packages: array (nullable = true)\n",
      " |    |    |-- element: struct (containsNull = true)\n",
      " |    |    |    |-- _id: string (nullable = true)\n",
      " |    |    |    |-- accounts: array (nullable = true)\n",
      " |    |    |    |    |-- element: struct (containsNull = true)\n",
      " |    |    |    |    |    |-- _id: string (nullable = true)\n",
      " |    |    |    |    |    |-- currency: string (nullable = true)\n",
      " |    |    |    |    |    |-- name: string (nullable = true)\n",
      " |    |    |    |    |    |-- overdraftLimits: array (nullable = true)\n",
      " |    |    |    |    |    |    |-- element: long (containsNull = true)\n",
      " |    |    |    |-- cards: array (nullable = true)\n",
      " |    |    |    |    |-- element: struct (containsNull = true)\n",
      " |    |    |    |    |    |-- _id: string (nullable = true)\n",
      " |    |    |    |    |    |-- levels: array (nullable = true)\n",
      " |    |    |    |    |    |    |-- element: struct (containsNull = true)\n",
      " |    |    |    |    |    |    |    |-- _id: string (nullable = true)\n",
      " |    |    |    |    |    |    |    |-- limits: array (nullable = true)\n",
      " |    |    |    |    |    |    |    |    |-- element: long (containsNull = true)\n",
      " |    |    |    |-- loans: array (nullable = true)\n",
      " |    |    |    |    |-- element: struct (containsNull = true)\n",
      " |    |    |    |    |    |-- _id: string (nullable = true)\n",
      " |    |    |    |    |    |-- maxGrantable: long (nullable = true)\n",
      " |    |    |    |    |    |-- minGrantable: long (nullable = true)\n",
      " |    |    |    |-- maxAssistance: double (nullable = true)\n",
      " |    |    |    |-- name: string (nullable = true)\n",
      " |    |    |    |-- subProduct: string (nullable = true)\n",
      " |-- segment: string (nullable = true)\n",
      " |-- partition_date: string (nullable = true)\n",
      "\n"
     ]
    }
   ],
   "source": [
    "# Bajamas un nivel para no hacer 'parsed_data.columna'\n",
    "df = df_details.select(col(\"parsed_data.*\"),col(\"partition_date\"))\n",
    "df.printSchema()"
   ]
  },
  {
   "cell_type": "markdown",
   "id": "769832d3",
   "metadata": {},
   "source": [
    "Ahora que tenemos?"
   ]
  },
  {
   "cell_type": "code",
   "execution_count": 8,
   "id": "5bb40f3e",
   "metadata": {},
   "outputs": [
    {
     "name": "stdout",
     "output_type": "stream",
     "text": [
      "+--------------------+---------------+--------+--------------------+-------+--------------+\n",
      "|                 _id|    createdDate|isClient|           offerData|segment|partition_date|\n",
      "+--------------------+---------------+--------+--------------------+-------+--------------+\n",
      "|{644187e5da7c796a...|{1682016229538}|   false|{bfa196f12e0d6392...|     MA|    2023-05-01|\n",
      "+--------------------+---------------+--------+--------------------+-------+--------------+\n",
      "\n"
     ]
    }
   ],
   "source": [
    "df.show()"
   ]
  },
  {
   "cell_type": "markdown",
   "id": "edc67f01",
   "metadata": {},
   "source": [
    "Correcto!\n",
    "\n",
    "Tenemos solo el primer nivel de la estructura pero podemos acceder a los adentro con la notacion punto"
   ]
  },
  {
   "cell_type": "code",
   "execution_count": 9,
   "id": "03a10ccb",
   "metadata": {},
   "outputs": [
    {
     "name": "stdout",
     "output_type": "stream",
     "text": [
      "+--------------------+--------------------+\n",
      "|                 _id|                $oid|\n",
      "+--------------------+--------------------+\n",
      "|{644187e5da7c796a...|644187e5da7c796a5...|\n",
      "+--------------------+--------------------+\n",
      "\n"
     ]
    }
   ],
   "source": [
    "df.select('_id','_id.$oid').show()"
   ]
  },
  {
   "cell_type": "markdown",
   "id": "bc7cac4c",
   "metadata": {},
   "source": [
    "#### Aclaracion\n",
    "El show no muestra las Keys, pero existen dentro de las columnas, por ejemplo en **\"_id\"** vemos\n",
    "\n",
    "{\"$oid\":\"644187e5da7c796a5d6d7b3a\"}"
   ]
  },
  {
   "cell_type": "markdown",
   "id": "ea79f471",
   "metadata": {},
   "source": [
    "**Si tu estructura no tiene listas se acabo, pasa a la parte final de guardar**\n",
    "\n",
    "## LAS LISTAS\n",
    "\n",
    "Si bien podemos desarmar los json en horizontal, como vemos las listas?\n",
    "\n",
    "A primera vista en forma vertical, para rescatar y dividir las columnas\n",
    "\n",
    "Para eso usamo **EXPLODE** para que cada elemento de la lista se transforme en un nuevo registro, manteniendo los demas valores iguales para cada uno\n",
    "\n",
    "*UPDATE: Les recomiendo siempre usar explode_outer porque uno nunca sabe si todos los registros tienen la misma estructura*"
   ]
  },
  {
   "cell_type": "code",
   "execution_count": 10,
   "id": "a950af58",
   "metadata": {},
   "outputs": [
    {
     "name": "stdout",
     "output_type": "stream",
     "text": [
      "+--------------------+---------------+--------+--------------------+-------+--------------+\n",
      "|                 _id|    createdDate|isClient|           offerData|segment|partition_date|\n",
      "+--------------------+---------------+--------+--------------------+-------+--------------+\n",
      "|{644187e5da7c796a...|{1682016229538}|   false|{INFINITY_GOLD, [...|     MA|    2023-05-01|\n",
      "|{644187e5da7c796a...|{1682016229538}|   false|{INFINITY_ONE, [{...|     MA|    2023-05-01|\n",
      "|{644187e5da7c796a...|{1682016229538}|   false|{SUPER_CUENTA_TRE...|     MA|    2023-05-01|\n",
      "|{644187e5da7c796a...|{1682016229538}|   false|{SUPER_CUENTA_UNO...|     MA|    2023-05-01|\n",
      "+--------------------+---------------+--------+--------------------+-------+--------------+\n",
      "\n"
     ]
    }
   ],
   "source": [
    "df2 = df.withColumn(\"offerData\", explode_outer(\"offerData.packages\"))\n",
    "df2.show()"
   ]
  },
  {
   "cell_type": "code",
   "execution_count": null,
   "id": "7419b5a2",
   "metadata": {},
   "outputs": [],
   "source": [
    "#df2.printSchema()"
   ]
  },
  {
   "cell_type": "markdown",
   "id": "296f5f36",
   "metadata": {},
   "source": [
    "```\n",
    "|-- offerData: struct (nullable = true)\n",
    "     |-- pepito =====> Lo perdiste\n",
    "|    |-- offerId: string (nullable = true)     =====> Lo perdiste\n",
    "|    |-- packages: array (nullable = true)\n",
    "|    |    |-- element: struct (containsNull = true)\n",
    "|    |    |    |-- _id: string (nullable = true)\n",
    "|    |    |    |-- accounts: array (nullable = true)\n",
    "                    \n",
    "                    ||\n",
    "                   _||_\n",
    "                   \\  /\n",
    "                    \\/\n",
    "\n",
    "|-- offerData: struct (nullable = true)\n",
    "|    |-- _id: string (nullable = true)\n",
    "|    |-- accounts: array (nullable = true)\n",
    "```\n",
    "\n",
    "Epa!! borraste el campo **\"offerId\"**, cuidado **acabas de reemplazar totalmente la columna offerData** \n",
    "\n",
    "Usemos un nuevo nombre para la columna / para este ejemplo use df2 para no ensuciar el original df "
   ]
  },
  {
   "cell_type": "code",
   "execution_count": 11,
   "id": "c941e09f",
   "metadata": {},
   "outputs": [],
   "source": [
    "df = df.withColumn(\"pkg_explode\", explode(\"offerData.packages\"))"
   ]
  },
  {
   "cell_type": "code",
   "execution_count": 12,
   "id": "237f0b14",
   "metadata": {},
   "outputs": [
    {
     "name": "stdout",
     "output_type": "stream",
     "text": [
      "+--------------------+-----------------+----------+-------------+--------------------+\n",
      "|         pkg_explode|              _id|subProduct|maxAssistance|            packages|\n",
      "+--------------------+-----------------+----------+-------------+--------------------+\n",
      "|{INFINITY_GOLD, [...|    INFINITY_GOLD|      0001|    1148000.0|[{INFINITY_GOLD, ...|\n",
      "|{INFINITY_ONE, [{...|     INFINITY_ONE|      0500|     803600.0|[{INFINITY_GOLD, ...|\n",
      "|{SUPER_CUENTA_TRE...|SUPER_CUENTA_TRES|      1750|     562520.0|[{INFINITY_GOLD, ...|\n",
      "|{SUPER_CUENTA_UNO...| SUPER_CUENTA_UNO|      2191|    1148000.0|[{INFINITY_GOLD, ...|\n",
      "+--------------------+-----------------+----------+-------------+--------------------+\n",
      "\n"
     ]
    }
   ],
   "source": [
    "df.select(\"pkg_explode\",\"pkg_explode._id\",\"pkg_explode.subProduct\",\"pkg_explode.maxAssistance\", \"offerData.packages\").show()"
   ]
  },
  {
   "cell_type": "markdown",
   "id": "2a791533",
   "metadata": {},
   "source": [
    "**Yyyyy si tengo una lista dentro de otra?**\n",
    "\n",
    "No importa, hacemos exploide de ese campo y los demas se repiten automaticamente"
   ]
  },
  {
   "cell_type": "code",
   "execution_count": 13,
   "id": "fe4fd2d2",
   "metadata": {},
   "outputs": [],
   "source": [
    "df = df.withColumn(\"cards_explode\", explode(\"pkg_explode.cards\"))"
   ]
  },
  {
   "cell_type": "code",
   "execution_count": 14,
   "id": "eb65bce9",
   "metadata": {},
   "outputs": [
    {
     "name": "stdout",
     "output_type": "stream",
     "text": [
      "+-----------------+----------------+--------------------+\n",
      "|              _id|             _id|              levels|\n",
      "+-----------------+----------------+--------------------+\n",
      "|    INFINITY_GOLD|            VISA|[{GOLD, [24000, 3...|\n",
      "|    INFINITY_GOLD|AMERICAN_EXPRESS|[{GOLD, [24000, 3...|\n",
      "|    INFINITY_GOLD|      MASTERCARD|[{GOLD, [24000, 3...|\n",
      "|     INFINITY_ONE|            VISA|[{INTERNATIONAL, ...|\n",
      "|     INFINITY_ONE|AMERICAN_EXPRESS|[{INTERNATIONAL, ...|\n",
      "|     INFINITY_ONE|      MASTERCARD|[{INTERNATIONAL, ...|\n",
      "|SUPER_CUENTA_TRES|            VISA|[{INTERNATIONAL, ...|\n",
      "+-----------------+----------------+--------------------+\n",
      "\n"
     ]
    }
   ],
   "source": [
    "df.select(\"pkg_explode._id\", \"cards_explode.*\").show()"
   ]
  },
  {
   "cell_type": "markdown",
   "id": "de0bc866",
   "metadata": {},
   "source": [
    "### Cargar el dataframe a HIVE\n",
    "\n",
    "Armamos el datafarme final, consideraciones:\n",
    "\n",
    "**Los nombres**: Usemos alias para no tener repetir los nombres, te salta error `(AnalysisException: Found duplicate column(s) in the table)`\n",
    "\n",
    "**Los tipos de datos**: Hay que castear algunos tipos de datos, ejemplo boolean, list. Ver si es mejor castearlos como string\n",
    "\n",
    "Usen el tipo de dato que corresponda su equivalente: https://spark.apache.org/docs/latest/sql-ref-datatypes.html\n",
    "\n",
    "| Hive   | Spark       |\n",
    "|--------|-------------|\n",
    "| Int    | IntegerType |\n",
    "| String | StringType  |\n",
    "\n",
    "Los que tienen practica sabran que si haces un df = df2.show(). Quiten el `show()`, para los que recien empiezan ojo: https://cumsum.wordpress.com/2020/09/26/pyspark-attributeerror-nonetype-object-has-no-attribute/\n"
   ]
  },
  {
   "cell_type": "code",
   "execution_count": 15,
   "id": "e66c7879",
   "metadata": {},
   "outputs": [],
   "source": [
    "df_final= df.select(col(\"_id.$oid\").alias(\"id\"),\n",
    "        #col(\"isClient\").cast(StringType().alias(\"is_client\"),\n",
    "        col(\"isClient\").alias(\"is_client\"),\n",
    "        col(\"offerData.offerId\").alias(\"offer_id\"),\n",
    "        col(\"pkg_explode._id\").alias(\"pkg_id\"),\n",
    "        col(\"pkg_explode.subProduct\").alias(\"pkg_sub_product\"),\n",
    "        col(\"pkg_explode.name\").alias(\"pkg_name\"),\n",
    "        col(\"pkg_explode.maxAssistance\").alias(\"pkg_max_assistance\"),            \n",
    "        col(\"createdDate.$date\").alias(\"created_date\"),         \n",
    "        col(\"partition_date\")\n",
    "    )"
   ]
  },
  {
   "cell_type": "code",
   "execution_count": 16,
   "id": "27fc4f82",
   "metadata": {},
   "outputs": [
    {
     "name": "stdout",
     "output_type": "stream",
     "text": [
      "+--------------------+---------+--------------------+-----------------+---------------+-------------+------------------+-------------+--------------+\n",
      "|                  id|is_client|            offer_id|           pkg_id|pkg_sub_product|     pkg_name|pkg_max_assistance| created_date|partition_date|\n",
      "+--------------------+---------+--------------------+-----------------+---------------+-------------+------------------+-------------+--------------+\n",
      "|644187e5da7c796a5...|    false|bfa196f12e0d63925...|    INFINITY_GOLD|           0001|Infinity Gold|         1148000.0|1682016229538|    2023-05-01|\n",
      "|644187e5da7c796a5...|    false|bfa196f12e0d63925...|    INFINITY_GOLD|           0001|Infinity Gold|         1148000.0|1682016229538|    2023-05-01|\n",
      "|644187e5da7c796a5...|    false|bfa196f12e0d63925...|    INFINITY_GOLD|           0001|Infinity Gold|         1148000.0|1682016229538|    2023-05-01|\n",
      "|644187e5da7c796a5...|    false|bfa196f12e0d63925...|     INFINITY_ONE|           0500| Infinity Uno|          803600.0|1682016229538|    2023-05-01|\n",
      "|644187e5da7c796a5...|    false|bfa196f12e0d63925...|     INFINITY_ONE|           0500| Infinity Uno|          803600.0|1682016229538|    2023-05-01|\n",
      "|644187e5da7c796a5...|    false|bfa196f12e0d63925...|     INFINITY_ONE|           0500| Infinity Uno|          803600.0|1682016229538|    2023-05-01|\n",
      "|644187e5da7c796a5...|    false|bfa196f12e0d63925...|SUPER_CUENTA_TRES|           1750|Supercuenta 3|          562520.0|1682016229538|    2023-05-01|\n",
      "+--------------------+---------+--------------------+-----------------+---------------+-------------+------------------+-------------+--------------+\n",
      "\n"
     ]
    }
   ],
   "source": [
    "df_final.show()"
   ]
  },
  {
   "cell_type": "markdown",
   "metadata": {},
   "source": [
    "### Filtrar"
   ]
  },
  {
   "cell_type": "code",
   "execution_count": null,
   "metadata": {},
   "outputs": [],
   "source": [
    "print(\"EXAMPLE INDIVIDUAL\") # Poner a desicion tuya\n",
    "df_final.filter(\"id = '6500fb91c8733d11d476d832'\").show()"
   ]
  },
  {
   "cell_type": "markdown",
   "id": "8d7a3564",
   "metadata": {},
   "source": [
    "### Codigo de Guardado\n",
    "\n",
    "Uso **.saveAsTable** porque si no existe la tabla la crea \n",
    "\n",
    "Muy util en la etapa de desarrollo. Sientanse libre de usar el metodo de guardado que prefieran"
   ]
  },
  {
   "cell_type": "code",
   "execution_count": null,
   "id": "ef848aa5",
   "metadata": {},
   "outputs": [],
   "source": [
    "'''\n",
    "df_final \\\n",
    "        .write \\\n",
    "        .partitionBy('partition_date') \\\n",
    "        .option(\"compression\", 'gzip') \\\n",
    "        .saveAsTable(name='bi_corp_staging.pongan_el_suyo',\n",
    "                        format='parquet',\n",
    "                        mode='Overwrite',\n",
    "                        path='/santander/bi-corp/staging/pongan_el_suyo')\n",
    "'''"
   ]
  },
  {
   "cell_type": "markdown",
   "id": "3a1a4370",
   "metadata": {},
   "source": [
    "## Vamos al codigo en vivo\n",
    "\n",
    "[RUTA S3: unico_spark](https://s3.console.aws.amazon.com/s3/buckets/sarp1ae1as3zonda0lake001?region=us-east-1&prefix=santander/bi-corp/staging/onboarding/unico_spark/&showversions=false)\n",
    "\n",
    "<hr>"
   ]
  },
  {
   "cell_type": "markdown",
   "id": "6d4b81d3",
   "metadata": {},
   "source": [
    "### ACLARATION Y PRECAUCION\n",
    "\n",
    "Mi ejemplo hace el tratamiento y la seleccion al final. Eso no quiere decir que no lo puedan hacer en el trayecto pero cuidado."
   ]
  },
  {
   "cell_type": "markdown",
   "id": "18473bc4",
   "metadata": {},
   "source": [
    "`.drop(\"_id\")\\ ` # esto borra todos los que se llamen `_id` (me afecto cuando no tenia alias)"
   ]
  },
  {
   "cell_type": "code",
   "execution_count": null,
   "id": "710f8599",
   "metadata": {},
   "outputs": [],
   "source": [
    "    # Si ya no se va a usar mas puedes borrarla asi no mantienes esa lista de elementos\n",
    "    # print(\"EXPLOIDE offerData.packages\")\n",
    "    # print('-'*20)\n",
    "    # df = df.select(col(\"*\"), col(\"offerData.offerId\"))\\\n",
    "    #   .withColumn(\"pkg_explode\", explode(\"offerData.packages\"))\\\n",
    "    #   .drop(\"offerData\")"
   ]
  },
  {
   "cell_type": "markdown",
   "id": "691f86f5",
   "metadata": {},
   "source": [
    "- Si se borra los que son con punto no se borran se almacenan en cache/ \n",
    "- Tienes que borrar la columna entera pero antes guardate las columnas de adentro que no hayas exploteado\n",
    "- Si una clave tiene un valor vacio, igual lo infiero. Pero no puede aparecer cargarse porque esta vacio, en este caso castearlo como NULL. Muy raro pero a considerar"
   ]
  },
  {
   "cell_type": "markdown",
   "id": "850dea98",
   "metadata": {},
   "source": [
    "Si los datos salen de mongo, entonces es un json 100%\n",
    "\n",
    "Pero si estan trabajando con estructuras que se aproximan y esto les rompe por no ser 100% json pueden usar la forma Manual"
   ]
  },
  {
   "cell_type": "markdown",
   "id": "87e5ec87",
   "metadata": {},
   "source": [
    "### FORMA MANUAL\n",
    "\n",
    "Ustedes pueden definir el schema manualmente, el cual vimos en la notebook **Campo Lista Spark**\n",
    "\n",
    "A mi se me acalambro y solo es la mitad"
   ]
  },
  {
   "cell_type": "code",
   "execution_count": null,
   "id": "45c38f72",
   "metadata": {},
   "outputs": [],
   "source": [
    "schema = StructType(\n",
    "      [\n",
    "        StructField('_id',  StringType(), True ),\n",
    "        StructField('hasDebitCard', StringType(), True),\n",
    "        StructField('isClient', StringType(), True),\n",
    "        StructField('offerData', StructType([StructField('packages',ArrayType(StringType()), True), StructField('offerId',StringType(), True)]), True),\n",
    "        StructField('segmentObu', StringType(), True),\n",
    "        StructField('startAt', StringType(), True),\n",
    "        StructField('flow', StringType(), True),\n",
    "        StructField('listOffer', ArrayType(StringType()), True),\n",
    "        StructField('obuId', StringType(), True),\n",
    "        StructField('metadata', StringType(), True),\n",
    "        StructField('track_id', StringType(), True),\n",
    "        StructField('contact', StringType(), True),\n",
    "        StructField('job', StringType(), True),\n",
    "        StructField('product', StringType(), True),\n",
    "        StructField('document_type', StringType(), True),\n",
    "        StructField('document_number', StringType(), True),\n",
    "        StructField('nup', StringType(), True),\n",
    "        StructField('channel', StringType(), True),\n",
    "        StructField('biometry_id', StringType(), True),\n",
    "        StructField('prospect', StringType(), True),\n",
    "        StructField('createdDate', StringType(), True),\n",
    "        StructField('segment', StringType(), True)\n",
    "      ]\n",
    "    )\n",
    "#Para los normales que no son listas podemos definir lo emebedido con la notacion de x.y    --------->\n",
    "mapped_df = df_json.withColumn(\"json\", from_json(\"value\", schema))"
   ]
  },
  {
   "cell_type": "markdown",
   "id": "76fe0a55",
   "metadata": {},
   "source": [
    "Si no quieres usar un schema, puedes usar las funciones cotidianas `json_tuple` pero es como volver a HIVE no vale la pena"
   ]
  },
  {
   "cell_type": "markdown",
   "metadata": {},
   "source": []
  }
 ],
 "metadata": {
  "kernelspec": {
   "display_name": "Python 3 (ipykernel)",
   "language": "python",
   "name": "python3"
  },
  "language_info": {
   "codemirror_mode": {
    "name": "ipython",
    "version": 3
   },
   "file_extension": ".py",
   "mimetype": "text/x-python",
   "name": "python",
   "nbconvert_exporter": "python",
   "pygments_lexer": "ipython3",
   "version": "3.9.7"
  }
 },
 "nbformat": 4,
 "nbformat_minor": 5
}
