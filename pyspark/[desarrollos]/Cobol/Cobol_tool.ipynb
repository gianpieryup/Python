{
 "cells": [
  {
   "cell_type": "markdown",
   "id": "768dbbc2",
   "metadata": {},
   "source": [
    "## Cobol Tool\n",
    "\n",
    "Requisitos:  `pip install coboljsonifier`"
   ]
  },
  {
   "cell_type": "code",
   "execution_count": 1,
   "id": "2a94d096",
   "metadata": {},
   "outputs": [],
   "source": [
    "import cobol_funcion as cf\n",
    "\n",
    "interface = 'employee_data.bin'\n",
    "archivo_cobol = 'inbound.cob'"
   ]
  },
  {
   "cell_type": "code",
   "execution_count": 2,
   "id": "c6ab5129",
   "metadata": {},
   "outputs": [
    {
     "name": "stdout",
     "output_type": "stream",
     "text": [
      "Encoding detectado: Windows-1252\n"
     ]
    },
    {
     "data": {
      "text/plain": [
       "'Windows-1252'"
      ]
     },
     "execution_count": 2,
     "metadata": {},
     "output_type": "execute_result"
    }
   ],
   "source": [
    "cf.detectar_encoding(interface)"
   ]
  },
  {
   "cell_type": "code",
   "execution_count": 2,
   "id": "b1ce4987",
   "metadata": {},
   "outputs": [
    {
     "name": "stdout",
     "output_type": "stream",
     "text": [
      "b'1234567890John Doe\\x00\\x00\\x00\\x00\\x00\\x00\\x00\\x00\\x00\\x00\\x00\\x00\\x00\\x00\\x00\\x00\\x00\\x00\\x00\\x00\\x00\\x00\\x1e\\x00\\x00\\x00\\xc0PCG0987654321Jane Smith\\x00\\x00\\x00\\x00\\x00\\x00\\x00\\x00\\x00\\x00\\x00\\x00\\x00\\x00\\x00\\x00\\x00\\x00\\x00\\x00\\x19\\x00\\x00\\x00\\x80`jG'\n"
     ]
    }
   ],
   "source": [
    "cf.read_file(interface)"
   ]
  },
  {
   "cell_type": "code",
   "execution_count": 9,
   "id": "be7fd4be",
   "metadata": {},
   "outputs": [
    {
     "data": {
      "text/html": [
       "<div>\n",
       "<style scoped>\n",
       "    .dataframe tbody tr th:only-of-type {\n",
       "        vertical-align: middle;\n",
       "    }\n",
       "\n",
       "    .dataframe tbody tr th {\n",
       "        vertical-align: top;\n",
       "    }\n",
       "\n",
       "    .dataframe thead th {\n",
       "        text-align: right;\n",
       "    }\n",
       "</style>\n",
       "<table border=\"1\" class=\"dataframe\">\n",
       "  <thead>\n",
       "    <tr style=\"text-align: right;\">\n",
       "      <th></th>\n",
       "      <th>Name</th>\n",
       "      <th>type</th>\n",
       "      <th>format</th>\n",
       "      <th>size</th>\n",
       "      <th>decimals</th>\n",
       "    </tr>\n",
       "  </thead>\n",
       "  <tbody>\n",
       "    <tr>\n",
       "      <th>0</th>\n",
       "      <td>EMP-ID</td>\n",
       "      <td>ALPHANUMERIC</td>\n",
       "      <td>X(10)</td>\n",
       "      <td>10</td>\n",
       "      <td>0</td>\n",
       "    </tr>\n",
       "    <tr>\n",
       "      <th>1</th>\n",
       "      <td>EMP-NAME</td>\n",
       "      <td>ALPHANUMERIC</td>\n",
       "      <td>X(30)</td>\n",
       "      <td>30</td>\n",
       "      <td>0</td>\n",
       "    </tr>\n",
       "    <tr>\n",
       "      <th>2</th>\n",
       "      <td>EMP-AGE</td>\n",
       "      <td>NUMERIC</td>\n",
       "      <td>99</td>\n",
       "      <td>2</td>\n",
       "      <td>0</td>\n",
       "    </tr>\n",
       "    <tr>\n",
       "      <th>3</th>\n",
       "      <td>EMP-SALARY</td>\n",
       "      <td>NUMERIC</td>\n",
       "      <td>9(5)V99</td>\n",
       "      <td>7</td>\n",
       "      <td>2</td>\n",
       "    </tr>\n",
       "  </tbody>\n",
       "</table>\n",
       "</div>"
      ],
      "text/plain": [
       "         Name          type   format  size  decimals\n",
       "0      EMP-ID  ALPHANUMERIC    X(10)    10         0\n",
       "1    EMP-NAME  ALPHANUMERIC    X(30)    30         0\n",
       "2     EMP-AGE       NUMERIC       99     2         0\n",
       "3  EMP-SALARY       NUMERIC  9(5)V99     7         2"
      ]
     },
     "execution_count": 9,
     "metadata": {},
     "output_type": "execute_result"
    }
   ],
   "source": [
    "# Se valida el Formato del archivo cobol\n",
    "df = cf.extractor_copybook(archivo_cobol)\n",
    "df"
   ]
  },
  {
   "cell_type": "code",
   "execution_count": null,
   "id": "5d7c5ca5",
   "metadata": {},
   "outputs": [],
   "source": [
    "# Use book structure to build a parser (FLAT_ASCII / BINARY_EBCDIC)\n",
    "rows = 2"
   ]
  },
  {
   "cell_type": "code",
   "execution_count": null,
   "id": "76084468",
   "metadata": {},
   "outputs": [],
   "source": [
    "bookfname = 'bgdtacu.cob'\n",
    "interface = 'BGDTACU-20230727.DAT'\n",
    "\n",
    "\n",
    "dict_structure = CopybookExtractor(bookfname).dict_book_structure\n",
    "df = pd.DataFrame([key for key in dict_structure.keys()], columns=['Name'])\n",
    "df['type'] = [value['type'] for value in dict_structure.values()]\n",
    "df['format'] = [value['format'] for value in dict_structure.values()]\n",
    "df['size'] = [value['size'] for value in dict_structure.values()]\n",
    "df['decimals'] = [value['decimals'] for value in dict_structure.values()]\n",
    "\n",
    "parser = Parser(dict_structure, ParseType.BINARY_EBCDIC).build()\n",
    "size = parser.size\n",
    "print(\"// Registry calculated lenght:\", size)"
   ]
  },
  {
   "cell_type": "markdown",
   "id": "c8bad2fb",
   "metadata": {},
   "source": [
    "<hr>"
   ]
  },
  {
   "cell_type": "code",
   "execution_count": 2,
   "id": "d7400e5a",
   "metadata": {},
   "outputs": [],
   "source": [
    "import json\n",
    "from coboljsonifier.copybookextractor import CopybookExtractor\n",
    "from coboljsonifier.parser import Parser\n",
    "from coboljsonifier.config.parser_type_enum import ParseType\n",
    "import pandas as pd\n",
    "import ast\n",
    "\n",
    "pd.options.display.max_rows = 4000"
   ]
  },
  {
   "cell_type": "markdown",
   "metadata": {},
   "source": [
    "### PARSE ASCII"
   ]
  },
  {
   "cell_type": "code",
   "execution_count": 3,
   "id": "2f7b07ac",
   "metadata": {},
   "outputs": [],
   "source": [
    "bookfname = 'cobol.cob'\n",
    "dict_structure = CopybookExtractor(bookfname).dict_book_structure"
   ]
  },
  {
   "cell_type": "code",
   "execution_count": 4,
   "id": "4138dd90",
   "metadata": {},
   "outputs": [],
   "source": [
    "# Use book structure to build a parser (FLAT_ASCII / BINARY_EBCDIC)\n",
    "parser = Parser(dict_structure, ParseType.FLAT_ASCII).build()\n",
    "\n",
    "data= '00710241234512ABC12345612'\n",
    "parser.parse(data)\n",
    "dictvalue = parser.value\n",
    "pretty = json.dumps(dictvalue, indent=4,default=str)\n",
    "val_convert = ast.literal_eval(pretty.replace(\"null\", \"None\"))"
   ]
  },
  {
   "cell_type": "code",
   "execution_count": 5,
   "id": "c8804e2d",
   "metadata": {},
   "outputs": [
    {
     "data": {
      "text/html": [
       "<div>\n",
       "<style scoped>\n",
       "    .dataframe tbody tr th:only-of-type {\n",
       "        vertical-align: middle;\n",
       "    }\n",
       "\n",
       "    .dataframe tbody tr th {\n",
       "        vertical-align: top;\n",
       "    }\n",
       "\n",
       "    .dataframe thead th {\n",
       "        text-align: right;\n",
       "    }\n",
       "</style>\n",
       "<table border=\"1\" class=\"dataframe\">\n",
       "  <thead>\n",
       "    <tr style=\"text-align: right;\">\n",
       "      <th></th>\n",
       "      <th>Name</th>\n",
       "      <th>type</th>\n",
       "      <th>format</th>\n",
       "      <th>size</th>\n",
       "      <th>decimals</th>\n",
       "      <th>result</th>\n",
       "    </tr>\n",
       "  </thead>\n",
       "  <tbody>\n",
       "    <tr>\n",
       "      <th>0</th>\n",
       "      <td>CLAIM-NUMBER</td>\n",
       "      <td>ALPHANUMERIC</td>\n",
       "      <td>X(3)</td>\n",
       "      <td>3</td>\n",
       "      <td>0</td>\n",
       "      <td>007</td>\n",
       "    </tr>\n",
       "    <tr>\n",
       "      <th>1</th>\n",
       "      <td>ADMISSION-DATE</td>\n",
       "      <td>NUMERIC</td>\n",
       "      <td>S9(4)</td>\n",
       "      <td>4</td>\n",
       "      <td>0</td>\n",
       "      <td>1024</td>\n",
       "    </tr>\n",
       "    <tr>\n",
       "      <th>2</th>\n",
       "      <td>FULL-DAYS</td>\n",
       "      <td>NUMERIC</td>\n",
       "      <td>S9(5)</td>\n",
       "      <td>5</td>\n",
       "      <td>0</td>\n",
       "      <td>12345</td>\n",
       "    </tr>\n",
       "    <tr>\n",
       "      <th>3</th>\n",
       "      <td>INTERMEDIARY-NUM</td>\n",
       "      <td>NUMERIC</td>\n",
       "      <td>9(2)</td>\n",
       "      <td>2</td>\n",
       "      <td>0</td>\n",
       "      <td>12</td>\n",
       "    </tr>\n",
       "    <tr>\n",
       "      <th>4</th>\n",
       "      <td>PROVIDER</td>\n",
       "      <td>ALPHANUMERIC</td>\n",
       "      <td>X(3)</td>\n",
       "      <td>3</td>\n",
       "      <td>0</td>\n",
       "      <td>ABC</td>\n",
       "    </tr>\n",
       "    <tr>\n",
       "      <th>5</th>\n",
       "      <td>INPATIENT-DED</td>\n",
       "      <td>NUMERIC</td>\n",
       "      <td>S9(4)V99</td>\n",
       "      <td>6</td>\n",
       "      <td>2</td>\n",
       "      <td>1234.56</td>\n",
       "    </tr>\n",
       "    <tr>\n",
       "      <th>6</th>\n",
       "      <td>PATIENT-STATUS</td>\n",
       "      <td>ALPHANUMERIC</td>\n",
       "      <td>X(2)</td>\n",
       "      <td>2</td>\n",
       "      <td>0</td>\n",
       "      <td>12</td>\n",
       "    </tr>\n",
       "  </tbody>\n",
       "</table>\n",
       "</div>"
      ],
      "text/plain": [
       "               Name          type    format  size  decimals   result\n",
       "0      CLAIM-NUMBER  ALPHANUMERIC      X(3)     3         0      007\n",
       "1    ADMISSION-DATE       NUMERIC     S9(4)     4         0     1024\n",
       "2         FULL-DAYS       NUMERIC     S9(5)     5         0    12345\n",
       "3  INTERMEDIARY-NUM       NUMERIC      9(2)     2         0       12\n",
       "4          PROVIDER  ALPHANUMERIC      X(3)     3         0      ABC\n",
       "5     INPATIENT-DED       NUMERIC  S9(4)V99     6         2  1234.56\n",
       "6    PATIENT-STATUS  ALPHANUMERIC      X(2)     2         0       12"
      ]
     },
     "execution_count": 5,
     "metadata": {},
     "output_type": "execute_result"
    }
   ],
   "source": [
    "df = pd.DataFrame([key for key in dict_structure.keys()], columns=['Name'])\n",
    "df['type'] = [value['type'] for value in dict_structure.values()]\n",
    "df['format'] = [value['format'] for value in dict_structure.values()]\n",
    "df['size'] = [value['size'] for value in dict_structure.values()]\n",
    "df['decimals'] = [value['decimals'] for value in dict_structure.values()]\n",
    "df['result'] = [value for value in val_convert.values()]\n",
    "df"
   ]
  },
  {
   "cell_type": "markdown",
   "metadata": {},
   "source": [
    "### PARSE BINARY"
   ]
  },
  {
   "cell_type": "code",
   "execution_count": null,
   "metadata": {},
   "outputs": [],
   "source": [
    "bookfname = 'bgdtacu.cob'\n",
    "interface = 'BGDTACU-20230727.DAT'\n",
    "rows = 2\n",
    "\n",
    "dict_structure = CopybookExtractor(bookfname).dict_book_structure\n",
    "df = pd.DataFrame([key for key in dict_structure.keys()], columns=['Name'])\n",
    "df['type'] = [value['type'] for value in dict_structure.values()]\n",
    "df['format'] = [value['format'] for value in dict_structure.values()]\n",
    "df['size'] = [value['size'] for value in dict_structure.values()]\n",
    "df['decimals'] = [value['decimals'] for value in dict_structure.values()]"
   ]
  },
  {
   "cell_type": "code",
   "execution_count": null,
   "metadata": {},
   "outputs": [],
   "source": [
    "parser = Parser(dict_structure, ParseType.BINARY_EBCDIC).build()\n",
    "size = parser.size\n",
    "print(\"// Registry calculated lenght:\", size)\n",
    "\n",
    "with open(interface, 'rb') as f2:\n",
    "    for x in range(rows):\n",
    "\n",
    "        # EBCDIC\n",
    "        data = f2.read(size)\n",
    "        if not data:\n",
    "            break\n",
    "           \n",
    "        if data[0:2] == b'\\xF0\\xF0':    # ====> El nuestro es este formato\n",
    "            parser.parse(data)\n",
    "            dictvalue = parser.value\n",
    "\n",
    "            pretty = json.dumps(dictvalue, indent=4,default=str)\n",
    "            val_convert = ast.literal_eval(pretty.replace(\"null\", \"None\"))\n",
    "            col = 'col' + str(x)\n",
    "            df[col] = [value for value in val_convert.values()]\n",
    "\n",
    "        else:\n",
    "            print(f'// Registry type {data[0:2]} not processed')"
   ]
  },
  {
   "cell_type": "markdown",
   "metadata": {},
   "source": [
    "### Posibles errores\n",
    "\n",
    "En **Extracting copybook structure** le da error los  |    PIC X.   => Cambiarlos por =>   PIC X(1).  en el copybook"
   ]
  }
 ],
 "metadata": {
  "kernelspec": {
   "display_name": "base",
   "language": "python",
   "name": "python3"
  },
  "language_info": {
   "codemirror_mode": {
    "name": "ipython",
    "version": 3
   },
   "file_extension": ".py",
   "mimetype": "text/x-python",
   "name": "python",
   "nbconvert_exporter": "python",
   "pygments_lexer": "ipython3",
   "version": "3.8.8"
  }
 },
 "nbformat": 4,
 "nbformat_minor": 5
}
