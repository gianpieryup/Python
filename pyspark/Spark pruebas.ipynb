{
 "cells": [
  {
   "cell_type": "markdown",
   "id": "4fe3d548",
   "metadata": {},
   "source": [
    "# Borrador y Pruebas"
   ]
  },
  {
   "cell_type": "markdown",
   "id": "f4bf6279",
   "metadata": {},
   "source": [
    "Para usar pyspark en una notebook debemos tener"
   ]
  },
  {
   "cell_type": "code",
   "execution_count": 2,
   "id": "69108065",
   "metadata": {},
   "outputs": [],
   "source": [
    "import findspark\n",
    "findspark.init()\n",
    "\n",
    "# Creamos la session de Spark\n",
    "import pyspark\n",
    "from pyspark.sql import SparkSession\n",
    "from pyspark.sql.types import StructType, StructField, StringType, ArrayType\n",
    "from pyspark.sql.functions import *\n",
    "\n",
    "spark = SparkSession.builder.getOrCreate()\n",
    "\n",
    "sc = spark.sparkContext"
   ]
  },
  {
   "cell_type": "markdown",
   "id": "d20ed12d",
   "metadata": {},
   "source": [
    "## Creacion del Dataframe\n",
    "\n",
    "Existen muchos metodos [ejemplos](https://www.geeksforgeeks.org/creating-a-pyspark-dataframe/)\n",
    "\n",
    "Este es:    `createDataFrame(Lista<(tuplas)>, schema=[])`"
   ]
  },
  {
   "cell_type": "code",
   "execution_count": 4,
   "id": "13cb5213",
   "metadata": {},
   "outputs": [
    {
     "name": "stdout",
     "output_type": "stream",
     "text": [
      "+-----+----+--------------+\n",
      "| name|edad|partition_date|\n",
      "+-----+----+--------------+\n",
      "| gian|  23|    2023-04-20|\n",
      "|chino|  32|    2023-04-20|\n",
      "| pepe|  12|    2023-04-20|\n",
      "+-----+----+--------------+\n",
      "\n",
      "root\n",
      " |-- name: string (nullable = true)\n",
      " |-- edad: long (nullable = true)\n",
      " |-- partition_date: string (nullable = true)\n",
      "\n"
     ]
    }
   ],
   "source": [
    "df=spark.createDataFrame([(\"gian\", 23, \"2023-04-20\"),\n",
    "                               (\"chino\", 32, \"2023-04-20\"),\n",
    "                               (\"pepe\", 12, \"2023-04-20\")\n",
    "                               ],[\"name\",\"edad\",\"partition_date\"])\n",
    "df.show()\n",
    "df.printSchema()"
   ]
  },
  {
   "cell_type": "markdown",
   "id": "0626dd1e",
   "metadata": {},
   "source": [
    "## BORRADOR"
   ]
  },
  {
   "cell_type": "code",
   "execution_count": null,
   "id": "75f5e442",
   "metadata": {},
   "outputs": [],
   "source": []
  }
 ],
 "metadata": {
  "kernelspec": {
   "display_name": "Python 3 (ipykernel)",
   "language": "python",
   "name": "python3"
  },
  "language_info": {
   "codemirror_mode": {
    "name": "ipython",
    "version": 3
   },
   "file_extension": ".py",
   "mimetype": "text/x-python",
   "name": "python",
   "nbconvert_exporter": "python",
   "pygments_lexer": "ipython3",
   "version": "3.9.7"
  }
 },
 "nbformat": 4,
 "nbformat_minor": 5
}
