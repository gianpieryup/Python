{
 "cells": [
  {
   "cell_type": "code",
   "execution_count": 32,
   "metadata": {},
   "outputs": [
    {
     "data": {
      "text/plain": [
       "{'partition_date': '2023-09-19'}"
      ]
     },
     "execution_count": 32,
     "metadata": {},
     "output_type": "execute_result"
    }
   ],
   "source": [
    "import datetime as dt\n",
    "# Esta variable esta definida en el helpers.py (Aqui no tocamos nada)\n",
    "TS_FORMAT = \"%Y-%m-%d %H:%M:%S\"\n",
    "DATE_FORMAT = \"%Y-%m-%d\"\n",
    "\n",
    "date_from = '2023-09-19'\n",
    "date_ts_from = dt.datetime.strptime(date_from, '%Y-%m-%d')\n",
    "\n",
    "dt_vars = {}\n",
    "dt_vars['partition_date'] = date_ts_from.strftime(DATE_FORMAT)\n",
    "dt_vars"
   ]
  },
  {
   "cell_type": "code",
   "execution_count": 33,
   "metadata": {},
   "outputs": [
    {
     "data": {
      "text/plain": [
       "{'partition_date': '2023-09-19',\n",
       " 'partition_date_utc': '2023-09-18 21:00:00',\n",
       " 'next_partition_date_utc': '2023-09-19 21:00:00'}"
      ]
     },
     "execution_count": 33,
     "metadata": {},
     "output_type": "execute_result"
    }
   ],
   "source": [
    "dt_vars['partition_date_utc'] = (date_ts_from - dt.timedelta(hours=3)).strftime(TS_FORMAT)\n",
    "dt_vars['next_partition_date_utc'] = (date_ts_from + dt.timedelta(days=1, hours=-3)).strftime(TS_FORMAT)\n",
    "dt_vars"
   ]
  },
  {
   "cell_type": "code",
   "execution_count": 36,
   "metadata": {},
   "outputs": [
    {
     "data": {
      "text/plain": [
       "datetime.datetime(2023, 9, 18, 21, 0)"
      ]
     },
     "execution_count": 36,
     "metadata": {},
     "output_type": "execute_result"
    }
   ],
   "source": [
    "# Operator mongo\n",
    "import dateutil\n",
    "begin_date = dt_vars['partition_date_utc']\n",
    "begin = dateutil.parser.parse(begin_date)\n",
    "begin"
   ]
  }
 ],
 "metadata": {
  "kernelspec": {
   "display_name": "base",
   "language": "python",
   "name": "python3"
  },
  "language_info": {
   "codemirror_mode": {
    "name": "ipython",
    "version": 3
   },
   "file_extension": ".py",
   "mimetype": "text/x-python",
   "name": "python",
   "nbconvert_exporter": "python",
   "pygments_lexer": "ipython3",
   "version": "3.9.7"
  }
 },
 "nbformat": 4,
 "nbformat_minor": 2
}
