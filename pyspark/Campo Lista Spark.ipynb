{
 "cells": [
  {
   "cell_type": "markdown",
   "id": "4fe3d548",
   "metadata": {},
   "source": [
    "# Campo Lista Spark"
   ]
  },
  {
   "cell_type": "markdown",
   "id": "f4bf6279",
   "metadata": {},
   "source": [
    "Para usar pyspark en una notebook debemos tener"
   ]
  },
  {
   "cell_type": "code",
   "execution_count": 1,
   "id": "456c75f1",
   "metadata": {},
   "outputs": [
    {
     "name": "stdout",
     "output_type": "stream",
     "text": [
      "c:\\Users\\B057546\\Anaconda3\n"
     ]
    }
   ],
   "source": [
    "import os\n",
    "import sys\n",
    "\n",
    "print(os.path.dirname(sys.executable))"
   ]
  },
  {
   "cell_type": "code",
   "execution_count": null,
   "id": "d8cdceee",
   "metadata": {},
   "outputs": [],
   "source": [
    "#pip install findspark"
   ]
  },
  {
   "cell_type": "code",
   "execution_count": 4,
   "id": "69108065",
   "metadata": {},
   "outputs": [
    {
     "name": "stdout",
     "output_type": "stream",
     "text": [
      "Apache Spark Version :3.3.1\n"
     ]
    }
   ],
   "source": [
    "import findspark\n",
    "findspark.init()\n",
    "\n",
    "# Creamos la session de Spark\n",
    "import pyspark\n",
    "from pyspark.sql import SparkSession\n",
    "from pyspark.sql.types import StructType, StructField, StringType, ArrayType\n",
    "from pyspark.sql.functions import *\n",
    "\n",
    "spark = SparkSession.builder.getOrCreate()\n",
    "print('Apache Spark Version :' + spark.sparkContext.version)\n",
    "\n",
    "sc = spark.sparkContext"
   ]
  },
  {
   "cell_type": "markdown",
   "metadata": {},
   "source": [
    "### Creacion del Dataframe\n",
    "\n",
    "Existen muchos metodos [ejemplos](https://www.geeksforgeeks.org/creating-a-pyspark-dataframe/)\n",
    "\n",
    "Este es:    `createDataFrame(Lista<(tuplas)>, schema=[])`"
   ]
  },
  {
   "cell_type": "code",
   "execution_count": 5,
   "metadata": {},
   "outputs": [
    {
     "name": "stdout",
     "output_type": "stream",
     "text": [
      "+-----+----+--------------+\n",
      "| name|edad|partition_date|\n",
      "+-----+----+--------------+\n",
      "| gian|  23|    2023-04-20|\n",
      "|chino|  32|    2023-04-20|\n",
      "| pepe|  12|    2023-04-20|\n",
      "+-----+----+--------------+\n",
      "\n",
      "root\n",
      " |-- name: string (nullable = true)\n",
      " |-- edad: long (nullable = true)\n",
      " |-- partition_date: string (nullable = true)\n",
      "\n"
     ]
    }
   ],
   "source": [
    "df=spark.createDataFrame([(\"gian\", 23, \"2023-04-20\"),\n",
    "                               (\"chino\", 32, \"2023-04-20\"),\n",
    "                               (\"pepe\", 12, \"2023-04-20\")\n",
    "                               ],[\"name\",\"edad\",\"partition_date\"])\n",
    "df.show()\n",
    "df.printSchema()"
   ]
  },
  {
   "cell_type": "markdown",
   "id": "61cde081",
   "metadata": {},
   "source": [
    "### Ejemplo con un campo lista que es un string\n",
    "\n",
    "Les comparto un campo de ejemplo de una tabla con este tipo de estructura, como veran es un string plano\n",
    "\n",
    "```sql\n",
    "SELECT actividad_regimen_general\n",
    "from bi_corp_staging.rpa_afip_registration_certificates\n",
    "WHERE partition_date = '2023-04-20' and cuit_cuil = '20008688657'\n",
    "```\n",
    "\n"
   ]
  },
  {
   "cell_type": "code",
   "execution_count": 3,
   "id": "e71f39ec",
   "metadata": {},
   "outputs": [
    {
     "name": "stdout",
     "output_type": "stream",
     "text": [
      "+-------------------------+--------------+\n",
      "|actividad_regimen_general|partition_date|\n",
      "+-------------------------+--------------+\n",
      "|     [{\"descripcionAct...|    2023-04-20|\n",
      "+-------------------------+--------------+\n",
      "\n"
     ]
    }
   ],
   "source": [
    "jsonString = \"\"\"[{\"descripcionActividad\":\"CULTIVO DE TRIGO\",\"idActividad\":11112.0,\"nomenclador\":883.0,\"orden\":3.0,\"periodo\":201311.0},{\"descripcionActividad\":\"CULTIVO DE MAÍZ\",\"idActividad\":11121.0,\"nomenclador\":883.0,\"orden\":4.0,\"periodo\":201311.0},{\"descripcionActividad\":\"CULTIVO DE PASTOS DE USO FORRAJERO\",\"idActividad\":11130.0,\"nomenclador\":883.0,\"orden\":6.0,\"periodo\":201311.0},{\"descripcionActividad\":\"CULTIVO DE GIRASOL\",\"idActividad\":11291.0,\"nomenclador\":883.0,\"orden\":5.0,\"periodo\":201311.0},{\"descripcionActividad\":\"CRÍA DE GANADO BOVINO, EXCEPTO LA REALIZADA EN CABAÑAS Y PARA LA PRODUCCIÓN DE LECHE\",\"idActividad\":14113.0,\"nomenclador\":883.0,\"orden\":1.0,\"periodo\":201311.0},{\"descripcionActividad\":\"INVERNADA  DE GANADO BOVINO EXCEPTO EL ENGORDE EN CORRALES (FEED-LOT)\",\"idActividad\":14114.0,\"nomenclador\":883.0,\"orden\":2.0,\"periodo\":201311.0},{\"descripcionActividad\":\"SERVICIOS INMOBILIARIOS REALIZADOS POR CUENTA PROPIA, CON BIENES URBANOS PROPIOS O ARRENDADOS N.C.P.\",\"idActividad\":681098.0,\"nomenclador\":883.0,\"orden\":7.0,\"periodo\":201405.0}]\"\"\"\n",
    "df_json=spark.createDataFrame([(jsonString, \"2023-04-20\")],[\"actividad_regimen_general\",\"partition_date\"])\n",
    "df_json.show()"
   ]
  },
  {
   "cell_type": "markdown",
   "id": "3de898d7",
   "metadata": {},
   "source": [
    "Bueno, ya tenemos la columna en un dataframe (este paso anterior no sera necesario porque ustedes se conectan al lago)\n",
    "\n",
    "Ahora vamos a pasarle la estructura que deberia tener este texto plano, que es **como queremos que se comporte**\n",
    "\n",
    "Al verlo intuimos lo siguiente: Una lista de estructuras, la cual se escribe en SPARK de la siguiente forma"
   ]
  },
  {
   "cell_type": "code",
   "execution_count": 4,
   "id": "1a08b606",
   "metadata": {},
   "outputs": [],
   "source": [
    "schema = ArrayType(StructType(\n",
    "      [\n",
    "        StructField('descripcionActividad',  StringType(), True ),\n",
    "        StructField('idActividad', StringType(), True),\n",
    "        StructField('nomenclador', StringType(), True),\n",
    "        StructField('orden', StringType(), True),\n",
    "        StructField('periodo', StringType(), True)\n",
    "      ]\n",
    "    ))\n",
    "\n",
    "#  creamos una nueva columna: withColumn(\"un alias\", from_json(\"la columna a parsear\", el_schema_creado))\n",
    "mapped_df = df_json.withColumn(\"act\", from_json(\"actividad_regimen_general\", schema))"
   ]
  },
  {
   "cell_type": "code",
   "execution_count": 5,
   "id": "627cb5cc",
   "metadata": {},
   "outputs": [
    {
     "name": "stdout",
     "output_type": "stream",
     "text": [
      "+-------------------------+--------------+--------------------+\n",
      "|actividad_regimen_general|partition_date|                 act|\n",
      "+-------------------------+--------------+--------------------+\n",
      "|     [{\"descripcionAct...|    2023-04-20|[{CULTIVO DE TRIG...|\n",
      "+-------------------------+--------------+--------------------+\n",
      "\n"
     ]
    }
   ],
   "source": [
    "mapped_df.show()"
   ]
  },
  {
   "cell_type": "code",
   "execution_count": 6,
   "id": "c8830a65",
   "metadata": {},
   "outputs": [
    {
     "name": "stdout",
     "output_type": "stream",
     "text": [
      "root\n",
      " |-- actividad_regimen_general: string (nullable = true)\n",
      " |-- partition_date: string (nullable = true)\n",
      " |-- act: array (nullable = true)\n",
      " |    |-- element: struct (containsNull = true)\n",
      " |    |    |-- descripcionActividad: string (nullable = true)\n",
      " |    |    |-- idActividad: string (nullable = true)\n",
      " |    |    |-- nomenclador: string (nullable = true)\n",
      " |    |    |-- orden: string (nullable = true)\n",
      " |    |    |-- periodo: string (nullable = true)\n",
      "\n"
     ]
    }
   ],
   "source": [
    "mapped_df.printSchema()"
   ]
  },
  {
   "cell_type": "markdown",
   "id": "789624f4",
   "metadata": {},
   "source": [
    "## Desarmar la Lista\n",
    "\n",
    "Ahora con la funcion `explode` directamente al campo, creara un nuevo registro por cada elemento de la lista"
   ]
  },
  {
   "cell_type": "code",
   "execution_count": 7,
   "id": "2ae75285",
   "metadata": {},
   "outputs": [
    {
     "name": "stdout",
     "output_type": "stream",
     "text": [
      "+-------------------------+--------------+--------------------+--------------------+\n",
      "|actividad_regimen_general|partition_date|                 act|             act_exp|\n",
      "+-------------------------+--------------+--------------------+--------------------+\n",
      "|     [{\"descripcionAct...|    2023-04-20|[{CULTIVO DE TRIG...|{CULTIVO DE TRIGO...|\n",
      "|     [{\"descripcionAct...|    2023-04-20|[{CULTIVO DE TRIG...|{CULTIVO DE MAÍZ,...|\n",
      "|     [{\"descripcionAct...|    2023-04-20|[{CULTIVO DE TRIG...|{CULTIVO DE PASTO...|\n",
      "|     [{\"descripcionAct...|    2023-04-20|[{CULTIVO DE TRIG...|{CULTIVO DE GIRAS...|\n",
      "|     [{\"descripcionAct...|    2023-04-20|[{CULTIVO DE TRIG...|{CRÍA DE GANADO B...|\n",
      "|     [{\"descripcionAct...|    2023-04-20|[{CULTIVO DE TRIG...|{INVERNADA  DE GA...|\n",
      "|     [{\"descripcionAct...|    2023-04-20|[{CULTIVO DE TRIG...|{SERVICIOS INMOBI...|\n",
      "+-------------------------+--------------+--------------------+--------------------+\n",
      "\n"
     ]
    }
   ],
   "source": [
    "df2 = mapped_df.withColumn(\"act_exp\", explode(\"act\"))\n",
    "df2.show()"
   ]
  },
  {
   "cell_type": "markdown",
   "id": "99096698",
   "metadata": {},
   "source": [
    "Para acceder a los campos dentro de las estructuras\n",
    "\n",
    "Usamos la notacion punto `(\"x.y\")`   "
   ]
  },
  {
   "cell_type": "code",
   "execution_count": 8,
   "id": "56880f10",
   "metadata": {},
   "outputs": [
    {
     "name": "stdout",
     "output_type": "stream",
     "text": [
      "+--------------------+-----+--------+\n",
      "|descripcionActividad|orden| periodo|\n",
      "+--------------------+-----+--------+\n",
      "|    CULTIVO DE TRIGO|  3.0|201311.0|\n",
      "|     CULTIVO DE MAÍZ|  4.0|201311.0|\n",
      "|CULTIVO DE PASTOS...|  6.0|201311.0|\n",
      "|  CULTIVO DE GIRASOL|  5.0|201311.0|\n",
      "|CRÍA DE GANADO BO...|  1.0|201311.0|\n",
      "|INVERNADA  DE GAN...|  2.0|201311.0|\n",
      "|SERVICIOS INMOBIL...|  7.0|201405.0|\n",
      "+--------------------+-----+--------+\n",
      "\n"
     ]
    }
   ],
   "source": [
    "df2.select(\"act_exp.descripcionActividad\",\"act_exp.orden\",\"act_exp.periodo\").show()"
   ]
  },
  {
   "cell_type": "code",
   "execution_count": 9,
   "id": "3398e178",
   "metadata": {},
   "outputs": [
    {
     "name": "stdout",
     "output_type": "stream",
     "text": [
      "+--------------------+-----------+-----------+-----+--------+\n",
      "|descripcionActividad|idActividad|nomenclador|orden| periodo|\n",
      "+--------------------+-----------+-----------+-----+--------+\n",
      "|    CULTIVO DE TRIGO|    11112.0|      883.0|  3.0|201311.0|\n",
      "|     CULTIVO DE MAÍZ|    11121.0|      883.0|  4.0|201311.0|\n",
      "|CULTIVO DE PASTOS...|    11130.0|      883.0|  6.0|201311.0|\n",
      "|  CULTIVO DE GIRASOL|    11291.0|      883.0|  5.0|201311.0|\n",
      "|CRÍA DE GANADO BO...|    14113.0|      883.0|  1.0|201311.0|\n",
      "|INVERNADA  DE GAN...|    14114.0|      883.0|  2.0|201311.0|\n",
      "|SERVICIOS INMOBIL...|   681098.0|      883.0|  7.0|201405.0|\n",
      "+--------------------+-----------+-----------+-----+--------+\n",
      "\n"
     ]
    }
   ],
   "source": [
    "# Si quieren todo pueden usar el siempre u confiable (*)\n",
    "df2.select(\"act_exp.*\").show()"
   ]
  },
  {
   "cell_type": "markdown",
   "id": "d71b8ab4",
   "metadata": {},
   "source": [
    "## NO todo es color de ✿\n",
    "\n",
    "Como nos puede venir cualquier cosa, dado que no tenemos idea. \n",
    "\n",
    "A tener en cuenta los siguientes casos"
   ]
  },
  {
   "cell_type": "code",
   "execution_count": 10,
   "id": "b2fb3d7e",
   "metadata": {},
   "outputs": [
    {
     "name": "stdout",
     "output_type": "stream",
     "text": [
      "+-----------+-------------------------+--------------+\n",
      "|  cuit_cuil|actividad_regimen_general|partition_date|\n",
      "+-----------+-------------------------+--------------+\n",
      "|27200000000|                         |    2023-05-01|\n",
      "|27206500000|                     null|    2023-05-01|\n",
      "|27206512800|                       []|    2023-05-01|\n",
      "|20330161532|     [{\"descripcionAct...|    2023-05-01|\n",
      "+-----------+-------------------------+--------------+\n",
      "\n"
     ]
    }
   ],
   "source": [
    "l = [(\"27200000000\",\"\", \"2023-05-01\"),\n",
    "     (\"27206500000\",\"null\", \"2023-05-01\"),\n",
    "     (\"27206512800\",\"[]\", \"2023-05-01\"),\n",
    "     (\"20330161532\",'[{\"descripcionActividad\":\"CULTIVO DE CEREALES N.C.P., EXCEPTO LOS DE USO FORRAJERO\",\"idActividad\":11119.0,\"nomenclador\":883.0,\"orden\":3.0,\"periodo\":202105.0},{\"descripcionActividad\":\"VENTA AL POR MENOR DE PRODUCTOS COSMÉTICOS, DE TOCADOR Y DE PERFUMERÍA\",\"idActividad\":477320.0,\"nomenclador\":883.0,\"orden\":1.0,\"periodo\":202105.0},{\"descripcionActividad\":\"SERVICIOS DE ASESORAMIENTO, DIRECCIÓN Y GESTIÓN EMPRESARIAL N.C.P.\",\"idActividad\":702099.0,\"nomenclador\":883.0,\"orden\":2.0,\"periodo\":202103.0}]',\"2023-05-01\")]\n",
    "\n",
    "\n",
    "df_json=spark.createDataFrame(l,[\"cuit_cuil\",\"actividad_regimen_general\",\"partition_date\"])\n",
    "df_json.show()"
   ]
  },
  {
   "cell_type": "code",
   "execution_count": 11,
   "id": "245cd200",
   "metadata": {},
   "outputs": [],
   "source": [
    "schema = ArrayType(StructType(\n",
    "      [\n",
    "        StructField('descripcionActividad',  StringType(), True ),\n",
    "        StructField('idActividad', StringType(), True),\n",
    "        StructField('nomenclador', StringType(), True),\n",
    "        StructField('orden', StringType(), True),\n",
    "        StructField('periodo', StringType(), True)\n",
    "      ]\n",
    "    ))"
   ]
  },
  {
   "cell_type": "code",
   "execution_count": 12,
   "id": "82114cea",
   "metadata": {},
   "outputs": [
    {
     "name": "stdout",
     "output_type": "stream",
     "text": [
      "+-----------+-------------------------+--------------+--------------------+\n",
      "|  cuit_cuil|actividad_regimen_general|partition_date|                 act|\n",
      "+-----------+-------------------------+--------------+--------------------+\n",
      "|27200000000|                         |    2023-05-01|                null|\n",
      "|27206500000|                     null|    2023-05-01|                null|\n",
      "|27206512800|                       []|    2023-05-01|                  []|\n",
      "|20330161532|     [{\"descripcionAct...|    2023-05-01|[{CULTIVO DE CERE...|\n",
      "+-----------+-------------------------+--------------+--------------------+\n",
      "\n"
     ]
    }
   ],
   "source": [
    "mapped_df = df_json.withColumn(\"act\",from_json(\"actividad_regimen_general\", schema))\n",
    "mapped_df.show()"
   ]
  },
  {
   "cell_type": "markdown",
   "id": "10b4a2f5",
   "metadata": {},
   "source": [
    "#### Desarmar Lista\n",
    "\n",
    "Notemos que perdemos registros, exactamente los que no cumplen con la structura"
   ]
  },
  {
   "cell_type": "code",
   "execution_count": 13,
   "id": "a1251c6d",
   "metadata": {},
   "outputs": [
    {
     "name": "stdout",
     "output_type": "stream",
     "text": [
      "+-----------+-------------------------+--------------+--------------------+--------------------+\n",
      "|  cuit_cuil|actividad_regimen_general|partition_date|                 act|             act_exp|\n",
      "+-----------+-------------------------+--------------+--------------------+--------------------+\n",
      "|20330161532|     [{\"descripcionAct...|    2023-05-01|[{CULTIVO DE CERE...|{CULTIVO DE CEREA...|\n",
      "|20330161532|     [{\"descripcionAct...|    2023-05-01|[{CULTIVO DE CERE...|{VENTA AL POR MEN...|\n",
      "|20330161532|     [{\"descripcionAct...|    2023-05-01|[{CULTIVO DE CERE...|{SERVICIOS DE ASE...|\n",
      "+-----------+-------------------------+--------------+--------------------+--------------------+\n",
      "\n"
     ]
    }
   ],
   "source": [
    "df = mapped_df.withColumn(\"act_exp\", explode(\"act\"))\n",
    "df.show()"
   ]
  },
  {
   "cell_type": "markdown",
   "id": "f3b2731d",
   "metadata": {},
   "source": [
    "Pero yo no quiero perder filas por que ese campo quiero que en todo caso se mantenga ese campo en **NULL** y no perder los demas valores\n",
    "\n",
    "[explode_outer](https://stackoverflow.com/questions/39739072/spark-sql-how-to-explode-without-losing-null-values)  : Spark 2.2+"
   ]
  },
  {
   "cell_type": "code",
   "execution_count": 14,
   "id": "d389413a",
   "metadata": {},
   "outputs": [
    {
     "name": "stdout",
     "output_type": "stream",
     "text": [
      "+-----------+-------------------------+--------------+--------------------+--------------------+\n",
      "|  cuit_cuil|actividad_regimen_general|partition_date|                 act|             act_exp|\n",
      "+-----------+-------------------------+--------------+--------------------+--------------------+\n",
      "|27200000000|                         |    2023-05-01|                null|                null|\n",
      "|27206500000|                     null|    2023-05-01|                null|                null|\n",
      "|27206512800|                       []|    2023-05-01|                  []|                null|\n",
      "|20330161532|     [{\"descripcionAct...|    2023-05-01|[{CULTIVO DE CERE...|{CULTIVO DE CEREA...|\n",
      "|20330161532|     [{\"descripcionAct...|    2023-05-01|[{CULTIVO DE CERE...|{VENTA AL POR MEN...|\n",
      "|20330161532|     [{\"descripcionAct...|    2023-05-01|[{CULTIVO DE CERE...|{SERVICIOS DE ASE...|\n",
      "+-----------+-------------------------+--------------+--------------------+--------------------+\n",
      "\n"
     ]
    }
   ],
   "source": [
    "df2 = mapped_df.withColumn(\"act_exp\", explode_outer(\"act\"))\n",
    "df2.show()"
   ]
  },
  {
   "cell_type": "code",
   "execution_count": 15,
   "id": "d67693ae",
   "metadata": {},
   "outputs": [
    {
     "name": "stdout",
     "output_type": "stream",
     "text": [
      "+-----------+--------------------+-----+--------+\n",
      "|  cuit_cuil|descripcionActividad|orden| periodo|\n",
      "+-----------+--------------------+-----+--------+\n",
      "|27200000000|                null| null|    null|\n",
      "|27206500000|                null| null|    null|\n",
      "|27206512800|                null| null|    null|\n",
      "|20330161532|CULTIVO DE CEREAL...|  3.0|202105.0|\n",
      "|20330161532|VENTA AL POR MENO...|  1.0|202105.0|\n",
      "|20330161532|SERVICIOS DE ASES...|  2.0|202103.0|\n",
      "+-----------+--------------------+-----+--------+\n",
      "\n"
     ]
    }
   ],
   "source": [
    "df2.select(\"cuit_cuil\",\"act_exp.descripcionActividad\",\"act_exp.orden\",\"act_exp.periodo\").show()"
   ]
  }
 ],
 "metadata": {
  "kernelspec": {
   "display_name": "Python 3 (ipykernel)",
   "language": "python",
   "name": "python3"
  },
  "language_info": {
   "codemirror_mode": {
    "name": "ipython",
    "version": 3
   },
   "file_extension": ".py",
   "mimetype": "text/x-python",
   "name": "python",
   "nbconvert_exporter": "python",
   "pygments_lexer": "ipython3",
   "version": "3.8.8"
  }
 },
 "nbformat": 4,
 "nbformat_minor": 5
}
