{
 "cells": [
  {
   "cell_type": "code",
   "execution_count": 1,
   "metadata": {},
   "outputs": [
    {
     "name": "stdout",
     "output_type": "stream",
     "text": [
      "Apache Spark Version :3.3.1\n"
     ]
    }
   ],
   "source": [
    "import findspark\n",
    "findspark.init()\n",
    "\n",
    "# Creamos la session de Spark\n",
    "import pyspark\n",
    "from pyspark.sql import SparkSession\n",
    "from pyspark.sql.types import *\n",
    "from pyspark.sql.functions import *\n",
    "\n",
    "spark = SparkSession.builder.getOrCreate()\n",
    "print('Apache Spark Version :' + spark.sparkContext.version)"
   ]
  },
  {
   "cell_type": "code",
   "execution_count": 2,
   "metadata": {},
   "outputs": [
    {
     "name": "stdout",
     "output_type": "stream",
     "text": [
      "+-----+----+--------------+\n",
      "| name|edad|partition_date|\n",
      "+-----+----+--------------+\n",
      "| gian|  23|    2023-04-20|\n",
      "|chino|  32|    2023-04-20|\n",
      "| pepe|  12|    2023-04-20|\n",
      "+-----+----+--------------+\n",
      "\n",
      "root\n",
      " |-- name: string (nullable = true)\n",
      " |-- edad: long (nullable = true)\n",
      " |-- partition_date: string (nullable = true)\n",
      "\n"
     ]
    }
   ],
   "source": [
    "# -- Creando un dataframe\n",
    "\n",
    "df_txt=spark.createDataFrame([(\"gian\", 23, \"2023-04-20\"),\n",
    "                               (\"chino\", 32, \"2023-04-20\"),\n",
    "                               (\"pepe\", 12, \"2023-04-20\")\n",
    "                               ],[\"name\",\"edad\",\"partition_date\"])\n",
    "df_txt.show()\n",
    "df_txt.printSchema()"
   ]
  },
  {
   "cell_type": "code",
   "execution_count": 3,
   "metadata": {},
   "outputs": [],
   "source": [
    "df_copia = df_txt"
   ]
  },
  {
   "cell_type": "code",
   "execution_count": 4,
   "metadata": {},
   "outputs": [
    {
     "name": "stdout",
     "output_type": "stream",
     "text": [
      "+-----+\n",
      "| name|\n",
      "+-----+\n",
      "| gian|\n",
      "|chino|\n",
      "| pepe|\n",
      "+-----+\n",
      "\n"
     ]
    }
   ],
   "source": [
    "df_copia.select(df_copia.name).show()"
   ]
  }
 ],
 "metadata": {
  "kernelspec": {
   "display_name": "base",
   "language": "python",
   "name": "python3"
  },
  "language_info": {
   "codemirror_mode": {
    "name": "ipython",
    "version": 3
   },
   "file_extension": ".py",
   "mimetype": "text/x-python",
   "name": "python",
   "nbconvert_exporter": "python",
   "pygments_lexer": "ipython3",
   "version": "3.8.8"
  }
 },
 "nbformat": 4,
 "nbformat_minor": 2
}
