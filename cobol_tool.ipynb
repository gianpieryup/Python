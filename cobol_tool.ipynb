{
 "cells": [
  {
   "cell_type": "markdown",
   "id": "20f6e9c7",
   "metadata": {},
   "source": [
    "## Requisitos\n",
    "\n",
    "Si no lo tienes instalar, revise la documentacion para mas informacion [Docu](https://pypi.org/project/coboljsonifier/)\n",
    "> pip install coboljsonifier"
   ]
  },
  {
   "cell_type": "code",
   "execution_count": 7,
   "id": "d7400e5a",
   "metadata": {},
   "outputs": [],
   "source": [
    "import json\n",
    "from coboljsonifier.copybookextractor import CopybookExtractor\n",
    "from coboljsonifier.parser import Parser\n",
    "from coboljsonifier.config.parser_type_enum import ParseType\n",
    "import pandas as pd\n",
    "import ast\n",
    "\n",
    "pd.options.display.max_rows = 4000"
   ]
  },
  {
   "cell_type": "code",
   "execution_count": 32,
   "id": "2f7b07ac",
   "metadata": {},
   "outputs": [],
   "source": [
    "bookfname = 'bgdtacu.cob'\n",
    "interface = 'BGDTACU-20230727.DAT'\n",
    "rows = 2\n",
    "# bin or ascii\n",
    "tipo = 'bin' "
   ]
  },
  {
   "cell_type": "markdown",
   "id": "bf7bc4c2",
   "metadata": {},
   "source": [
    "### Building a Parser\n",
    "\n",
    "Use book structure to build a parser (**FLAT_ASCII** / **BINARY_EBCDIC**)"
   ]
  },
  {
   "cell_type": "code",
   "execution_count": 34,
   "id": "55f65a97",
   "metadata": {},
   "outputs": [
    {
     "name": "stdout",
     "output_type": "stream",
     "text": [
      "// Registry calculated lenght: 243\n"
     ]
    }
   ],
   "source": [
    "dict_structure = CopybookExtractor(bookfname).dict_book_structure\n",
    "\n",
    "if tipo == 'bin':\n",
    "    parser = Parser(dict_structure, ParseType.BINARY_EBCDIC).build()\n",
    "    size = parser.size\n",
    "    print(\"// Registry calculated lenght:\", size)\n",
    "if tipo == 'ascii':\n",
    "    parser = Parser(dict_structure, ParseType.FLAT_ASCII).build()"
   ]
  },
  {
   "cell_type": "code",
   "execution_count": 23,
   "id": "d23ec6a1",
   "metadata": {},
   "outputs": [],
   "source": [
    "df = pd.DataFrame([key for key in dict_structure.keys()], columns=['Name'])\n",
    "df['type'] = [value['type'] for value in dict_structure.values()]\n",
    "df['format'] = [value['format'] for value in dict_structure.values()]\n",
    "df['size'] = [value['size'] for value in dict_structure.values()]\n",
    "df['decimals'] = [value['decimals'] for value in dict_structure.values()]"
   ]
  },
  {
   "cell_type": "code",
   "execution_count": 3,
   "id": "9d6bc7d9",
   "metadata": {},
   "outputs": [],
   "source": [
    "#TODO: 2 Unir la implementacion para que todo quede en un solo nootbook "
   ]
  },
  {
   "cell_type": "code",
   "execution_count": 26,
   "id": "0fdf6ad5",
   "metadata": {},
   "outputs": [],
   "source": [
    "with open(interface) as archivo:\n",
    "    i = 1\n",
    "    for linea in archivo:\n",
    "        \n",
    "        data= linea\n",
    "        parser.parse(data)\n",
    "        dictvalue = parser.value\n",
    "        pretty = json.dumps(dictvalue, indent=4,default=str)\n",
    "        val_convert = ast.literal_eval(pretty.replace(\"null\", \"None\"))\n",
    "\n",
    "        col = 'col' + str(i)\n",
    "        df[col] = [value for value in val_convert.values()]\n",
    "\n",
    "        if i==rows:\n",
    "            break\n",
    "          \n",
    "        i = i + 1"
   ]
  },
  {
   "cell_type": "code",
   "execution_count": 27,
   "id": "c8804e2d",
   "metadata": {},
   "outputs": [
    {
     "data": {
      "text/html": [
       "<div>\n",
       "<style scoped>\n",
       "    .dataframe tbody tr th:only-of-type {\n",
       "        vertical-align: middle;\n",
       "    }\n",
       "\n",
       "    .dataframe tbody tr th {\n",
       "        vertical-align: top;\n",
       "    }\n",
       "\n",
       "    .dataframe thead th {\n",
       "        text-align: right;\n",
       "    }\n",
       "</style>\n",
       "<table border=\"1\" class=\"dataframe\">\n",
       "  <thead>\n",
       "    <tr style=\"text-align: right;\">\n",
       "      <th></th>\n",
       "      <th>Name</th>\n",
       "      <th>type</th>\n",
       "      <th>format</th>\n",
       "      <th>size</th>\n",
       "      <th>decimals</th>\n",
       "      <th>col1</th>\n",
       "      <th>col2</th>\n",
       "      <th>col3</th>\n",
       "    </tr>\n",
       "  </thead>\n",
       "  <tbody>\n",
       "    <tr>\n",
       "      <th>0</th>\n",
       "      <td>ALIC-TIPO-CBTE</td>\n",
       "      <td>NUMERIC</td>\n",
       "      <td>9(03)</td>\n",
       "      <td>3</td>\n",
       "      <td>0</td>\n",
       "      <td>99</td>\n",
       "      <td>99</td>\n",
       "      <td>99</td>\n",
       "    </tr>\n",
       "    <tr>\n",
       "      <th>1</th>\n",
       "      <td>ALIC-PUNTO-VENTA</td>\n",
       "      <td>NUMERIC</td>\n",
       "      <td>9(05)</td>\n",
       "      <td>5</td>\n",
       "      <td>0</td>\n",
       "      <td>7</td>\n",
       "      <td>7</td>\n",
       "      <td>7</td>\n",
       "    </tr>\n",
       "    <tr>\n",
       "      <th>2</th>\n",
       "      <td>ALIC-NRO-CBTE</td>\n",
       "      <td>ALPHANUMERIC</td>\n",
       "      <td>X(20)</td>\n",
       "      <td>20</td>\n",
       "      <td>0</td>\n",
       "      <td>11000000062023040001</td>\n",
       "      <td>11000000072023040002</td>\n",
       "      <td>11000000102023040003</td>\n",
       "    </tr>\n",
       "    <tr>\n",
       "      <th>3</th>\n",
       "      <td>ALIC-COD-DOC-VEND</td>\n",
       "      <td>NUMERIC</td>\n",
       "      <td>9(02)</td>\n",
       "      <td>2</td>\n",
       "      <td>0</td>\n",
       "      <td>80</td>\n",
       "      <td>80</td>\n",
       "      <td>80</td>\n",
       "    </tr>\n",
       "    <tr>\n",
       "      <th>4</th>\n",
       "      <td>ALIC-NRO-IDENT-VEND</td>\n",
       "      <td>ALPHANUMERIC</td>\n",
       "      <td>X(20)</td>\n",
       "      <td>20</td>\n",
       "      <td>0</td>\n",
       "      <td>00000000030500003266</td>\n",
       "      <td>00000000030500001735</td>\n",
       "      <td>00000000030707202706</td>\n",
       "    </tr>\n",
       "    <tr>\n",
       "      <th>5</th>\n",
       "      <td>ALIC-SGN-NETO-GRAVADO</td>\n",
       "      <td>ALPHANUMERIC</td>\n",
       "      <td>X(1)</td>\n",
       "      <td>1</td>\n",
       "      <td>0</td>\n",
       "      <td>0</td>\n",
       "      <td>0</td>\n",
       "      <td>0</td>\n",
       "    </tr>\n",
       "    <tr>\n",
       "      <th>6</th>\n",
       "      <td>ALIC-IMP-NETO-GRAVADO</td>\n",
       "      <td>NUMERIC</td>\n",
       "      <td>9(12)V99</td>\n",
       "      <td>14</td>\n",
       "      <td>2</td>\n",
       "      <td>3.65</td>\n",
       "      <td>109313.85</td>\n",
       "      <td>126.10</td>\n",
       "    </tr>\n",
       "    <tr>\n",
       "      <th>7</th>\n",
       "      <td>ALIC-ALICUOTA</td>\n",
       "      <td>NUMERIC</td>\n",
       "      <td>9(04)</td>\n",
       "      <td>4</td>\n",
       "      <td>0</td>\n",
       "      <td>5</td>\n",
       "      <td>5</td>\n",
       "      <td>5</td>\n",
       "    </tr>\n",
       "    <tr>\n",
       "      <th>8</th>\n",
       "      <td>ALIC-SGN-IMPUESTO-IVA</td>\n",
       "      <td>ALPHANUMERIC</td>\n",
       "      <td>X(1)</td>\n",
       "      <td>1</td>\n",
       "      <td>0</td>\n",
       "      <td>0</td>\n",
       "      <td>0</td>\n",
       "      <td>0</td>\n",
       "    </tr>\n",
       "    <tr>\n",
       "      <th>9</th>\n",
       "      <td>ALIC-IMP-IMPUESTO-IVA</td>\n",
       "      <td>NUMERIC</td>\n",
       "      <td>9(12)V99</td>\n",
       "      <td>14</td>\n",
       "      <td>2</td>\n",
       "      <td>0.77</td>\n",
       "      <td>22955.91</td>\n",
       "      <td>26.48</td>\n",
       "    </tr>\n",
       "  </tbody>\n",
       "</table>\n",
       "</div>"
      ],
      "text/plain": [
       "                    Name          type    format  size  decimals  \\\n",
       "0         ALIC-TIPO-CBTE       NUMERIC     9(03)     3         0   \n",
       "1       ALIC-PUNTO-VENTA       NUMERIC     9(05)     5         0   \n",
       "2          ALIC-NRO-CBTE  ALPHANUMERIC     X(20)    20         0   \n",
       "3      ALIC-COD-DOC-VEND       NUMERIC     9(02)     2         0   \n",
       "4    ALIC-NRO-IDENT-VEND  ALPHANUMERIC     X(20)    20         0   \n",
       "5  ALIC-SGN-NETO-GRAVADO  ALPHANUMERIC      X(1)     1         0   \n",
       "6  ALIC-IMP-NETO-GRAVADO       NUMERIC  9(12)V99    14         2   \n",
       "7          ALIC-ALICUOTA       NUMERIC     9(04)     4         0   \n",
       "8  ALIC-SGN-IMPUESTO-IVA  ALPHANUMERIC      X(1)     1         0   \n",
       "9  ALIC-IMP-IMPUESTO-IVA       NUMERIC  9(12)V99    14         2   \n",
       "\n",
       "                   col1                  col2                  col3  \n",
       "0                    99                    99                    99  \n",
       "1                     7                     7                     7  \n",
       "2  11000000062023040001  11000000072023040002  11000000102023040003  \n",
       "3                    80                    80                    80  \n",
       "4  00000000030500003266  00000000030500001735  00000000030707202706  \n",
       "5                     0                     0                     0  \n",
       "6                  3.65             109313.85                126.10  \n",
       "7                     5                     5                     5  \n",
       "8                     0                     0                     0  \n",
       "9                  0.77              22955.91                 26.48  "
      ]
     },
     "execution_count": 27,
     "metadata": {},
     "output_type": "execute_result"
    }
   ],
   "source": [
    "df"
   ]
  },
  {
   "cell_type": "markdown",
   "id": "a7ac298e",
   "metadata": {},
   "source": [
    "## Posibles errores\n",
    "\n",
    "En **Extracting copybook structure** le da error los  |    PIC X.   => Cambiarlos por =>   PIC X(1).  en el copybook"
   ]
  }
 ],
 "metadata": {
  "kernelspec": {
   "display_name": "Python 3 (ipykernel)",
   "language": "python",
   "name": "python3"
  },
  "language_info": {
   "codemirror_mode": {
    "name": "ipython",
    "version": 3
   },
   "file_extension": ".py",
   "mimetype": "text/x-python",
   "name": "python",
   "nbconvert_exporter": "python",
   "pygments_lexer": "ipython3",
   "version": "3.9.7"
  }
 },
 "nbformat": 4,
 "nbformat_minor": 5
}
