{
 "cells": [
  {
   "cell_type": "markdown",
   "metadata": {},
   "source": [
    "## CSV to PPT in Python \n",
    "\n",
    "Automatizar armado de la Diapositiva de Sprint\n",
    "\n",
    "Link -> [Guide](https://python-pptx.readthedocs.io/en/latest/user/quickstart.html)"
   ]
  },
  {
   "cell_type": "code",
   "execution_count": 28,
   "metadata": {},
   "outputs": [
    {
     "name": "stdout",
     "output_type": "stream",
     "text": [
      "            title  importe moneda\n",
      "0  Ana camnionera    52000    USD\n",
      "1    Beto albañil    99999    DXc\n",
      "2  Beto carnicero    55555    COL\n",
      "3  Ana Matahambre     2300    ARS\n",
      "4  Beto Doctor 45    33333   PLIN\n"
     ]
    }
   ],
   "source": [
    "from pptx import Presentation\n",
    "from pptx.util import Inches\n",
    "import pandas as pd\n",
    "\n",
    "# Data Frames\n",
    "info =[['Ana camnionera', 52000, 'USD'],['Beto albañil', 99999, 'DXc'],\n",
    "       ['Beto carnicero', 55555, 'COL'],['Ana Matahambre', 2300, 'ARS'],['Beto Doctor 45', 33333, 'PLIN']]\n",
    "df = pd.DataFrame(info,columns=['title','importe','moneda'])\n",
    "print(df)"
   ]
  },
  {
   "cell_type": "code",
   "execution_count": null,
   "metadata": {},
   "outputs": [
    {
     "name": "stdout",
     "output_type": "stream",
     "text": [
      "0\n",
      "1\n",
      "2\n",
      "3\n",
      "4\n"
     ]
    }
   ],
   "source": [
    "# Crear una presentación\n",
    "prs = Presentation()\n",
    "\n",
    "# Crear una funcion porque esto es repetitivo\n",
    "\n",
    "for index, row in df.iterrows():\n",
    "    # Añadir una diapositiva con un diseño de título y 2 columnas\n",
    "    if index % 2 == 0:\n",
    "        slide_layout = prs.slide_layouts[3]\n",
    "        slide = prs.slides.add_slide(slide_layout)\n",
    "    \n",
    "        # Añadir un título\n",
    "        title = slide.shapes.title\n",
    "        title.text = f\"Sprint X\"\n",
    "\n",
    "    print(index)\n",
    "    if index % 2 == 0:\n",
    "        body_shape = slide.placeholders[1] # LEFT\n",
    "    else:\n",
    "        body_shape = slide.placeholders[2] # RIGTH\n",
    "\n",
    "    c = f\"\"\"Importe : {row['importe']}\\nMoneda : {row['moneda']}\"\"\" \n",
    "    \n",
    "    tf = body_shape.text_frame\n",
    "    tf.text = row['title']\n",
    "\n",
    "    p = tf.add_paragraph()\n",
    "    p.text = c\n",
    "    p.level = 1\n",
    "\n",
    "# Guardar la presentación\n",
    "prs.save('presentacion.pptx')"
   ]
  }
 ],
 "metadata": {
  "kernelspec": {
   "display_name": "base",
   "language": "python",
   "name": "python3"
  },
  "language_info": {
   "codemirror_mode": {
    "name": "ipython",
    "version": 3
   },
   "file_extension": ".py",
   "mimetype": "text/x-python",
   "name": "python",
   "nbconvert_exporter": "python",
   "pygments_lexer": "ipython3",
   "version": "3.8.8"
  }
 },
 "nbformat": 4,
 "nbformat_minor": 2
}
