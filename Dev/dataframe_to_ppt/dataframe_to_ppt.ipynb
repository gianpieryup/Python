{
 "cells": [
  {
   "cell_type": "code",
   "execution_count": 8,
   "metadata": {},
   "outputs": [
    {
     "name": "stdout",
     "output_type": "stream",
     "text": [
      "  name  importe moneda\n",
      "0   CA    52000    USD\n",
      "1  CUS     2300    ARS\n",
      "2   OB    99999    COL\n"
     ]
    }
   ],
   "source": [
    "from pptx import Presentation\n",
    "from pptx.util import Inches\n",
    "import pandas as pd\n",
    "\n",
    "# Data Frames\n",
    "info =[['CA', 52000, 'USD'],['CUS', 2300, 'ARS'],['OB', 99999, 'COL']]\n",
    "df = pd.DataFrame(info,columns=['name','importe','moneda'])\n",
    "print(df)"
   ]
  },
  {
   "cell_type": "code",
   "execution_count": 9,
   "metadata": {},
   "outputs": [],
   "source": [
    "# Crear una presentación\n",
    "prs = Presentation()\n",
    "\n",
    "for index, row in df.iterrows():\n",
    "    # Añadir una diapositiva con un diseño de título y contenido\n",
    "    slide_layout = prs.slide_layouts[1]\n",
    "    slide = prs.slides.add_slide(slide_layout)\n",
    "    \n",
    "    # Añadir un título\n",
    "    title = slide.shapes.title\n",
    "    title.text = f\"Sprint X\"\n",
    "    \n",
    "    # Añadir contenido\n",
    "    content = slide.placeholders[1]\n",
    "\n",
    "    content.text = ', '.join([f\"{col}: {row[col]}\" for col in df.columns])\n",
    "\n",
    "# Guardar la presentación\n",
    "prs.save('presentacion.pptx')"
   ]
  }
 ],
 "metadata": {
  "kernelspec": {
   "display_name": "base",
   "language": "python",
   "name": "python3"
  },
  "language_info": {
   "codemirror_mode": {
    "name": "ipython",
    "version": 3
   },
   "file_extension": ".py",
   "mimetype": "text/x-python",
   "name": "python",
   "nbconvert_exporter": "python",
   "pygments_lexer": "ipython3",
   "version": "3.8.8"
  }
 },
 "nbformat": 4,
 "nbformat_minor": 2
}
