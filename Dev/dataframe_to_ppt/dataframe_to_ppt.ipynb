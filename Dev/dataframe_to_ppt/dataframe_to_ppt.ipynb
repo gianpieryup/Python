{
 "cells": [
  {
   "cell_type": "markdown",
   "metadata": {},
   "source": [
    "## CSV to PPT in Python \n",
    "\n",
    "Automatizar armado de la Diapositiva de Sprint\n",
    "\n",
    "Link -> [Guide](https://python-pptx.readthedocs.io/en/latest/user/quickstart.html)"
   ]
  },
  {
   "cell_type": "code",
   "execution_count": 34,
   "metadata": {},
   "outputs": [
    {
     "name": "stdout",
     "output_type": "stream",
     "text": [
      "            title  importe moneda\n",
      "0  Ana camnionera    52000    USD\n",
      "1    Beto albañil    99999    DXc\n",
      "2  Beto carnicero    55555    COL\n",
      "3  Ana Matahambre     2300    ARS\n",
      "4  Beto Doctor 45    33333   PLIN\n"
     ]
    }
   ],
   "source": [
    "from pptx import Presentation\n",
    "from pptx.util import Inches\n",
    "import pandas as pd\n",
    "from itertools import zip_longest\n",
    "\n",
    "# Data Frames\n",
    "info =[['Ana camnionera', 52000, 'USD'],['Beto albañil', 99999, 'DXc'],\n",
    "       ['Beto carnicero', 55555, 'COL'],['Ana Matahambre', 2300, 'ARS'],['Beto Doctor 45', 33333, 'PLIN']]\n",
    "df = pd.DataFrame(info,columns=['title','importe','moneda'])\n",
    "print(df)"
   ]
  },
  {
   "cell_type": "code",
   "execution_count": 39,
   "metadata": {},
   "outputs": [],
   "source": [
    "# Crear una funcion porque esto es repetitivo\n",
    "\n",
    "# Crear una presentación\n",
    "prs = Presentation()\n",
    "\n",
    "for (idx1, row1), (idx2, row2) in zip_longest(df[::2].iterrows(), df[1::2].iterrows(), fillvalue=(None, None)):\n",
    "\n",
    "    slide_layout = prs.slide_layouts[5]  # 5 is the layout for title and content\n",
    "    slide = prs.slides.add_slide(slide_layout)\n",
    "    title = slide.shapes.title\n",
    "    title.text = \"Title X\"\n",
    "\n",
    "    # Añadir un cuadro de texto para la primera fila\n",
    "    left = Inches(1)  # Margen izquierdo\n",
    "    top = Inches(1.5)   # Margen superior\n",
    "    width = Inches(8) # Ancho del cuadro de texto\n",
    "    height = Inches(1.5) # Altura del cuadro de texto\n",
    "    textbox1 = slide.shapes.add_textbox(left, top, width, height)\n",
    "    tf1 = textbox1.text_frame\n",
    "    content = f\"Fila 1 - Índice: {idx1}, \\nTítulo: {row1['title']}\\nImporte: {row1['importe']}\\nMoneda: {row1['moneda']}\"\n",
    "    tf1.text = content\n",
    "\n",
    "    if idx2: # Si hay una segunda fila\n",
    "        # Añadir un cuadro de texto para la segunda fila\n",
    "        top = Inches(4.5)  # Ajustar la posición vertical para la segunda fila\n",
    "        textbox2 = slide.shapes.add_textbox(left, top, width, height)\n",
    "        tf2 = textbox2.text_frame\n",
    "        content = f\"Fila 2 - Índice: {idx2}, \\nTítulo: {row2['title']}\\nImporte: {row2['importe']}\\nMoneda: {row2['moneda']}\"\n",
    "        tf2.text = content\n",
    "\n",
    "# Guardar la presentación\n",
    "prs.save('diapositiva_dos_filas.pptx')"
   ]
  }
 ],
 "metadata": {
  "kernelspec": {
   "display_name": "base",
   "language": "python",
   "name": "python3"
  },
  "language_info": {
   "codemirror_mode": {
    "name": "ipython",
    "version": 3
   },
   "file_extension": ".py",
   "mimetype": "text/x-python",
   "name": "python",
   "nbconvert_exporter": "python",
   "pygments_lexer": "ipython3",
   "version": "3.8.8"
  }
 },
 "nbformat": 4,
 "nbformat_minor": 2
}
