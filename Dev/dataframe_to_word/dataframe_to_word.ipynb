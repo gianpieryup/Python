{
 "cells": [
  {
   "cell_type": "code",
   "execution_count": 3,
   "metadata": {},
   "outputs": [
    {
     "name": "stderr",
     "output_type": "stream",
     "text": [
      "ERROR: pip's dependency resolver does not currently take into account all the packages that are installed. This behaviour is the source of the following dependency conflicts.\n",
      "tensorflow 2.10.0 requires libclang>=13.0.0, which is not installed.\n",
      "tensorflow 2.10.0 requires tensorflow-io-gcs-filesystem>=0.23.1, which is not installed.\n",
      "tensorflow 2.10.0 requires protobuf<3.20,>=3.9.2, but you have protobuf 3.20.3 which is incompatible.\n"
     ]
    }
   ],
   "source": [
    "# !pip install docxtpl -q"
   ]
  },
  {
   "cell_type": "code",
   "execution_count": 1,
   "metadata": {},
   "outputs": [],
   "source": [
    "import pandas as pd\n",
    "from datetime import datetime\n",
    "from docxtpl import DocxTemplate"
   ]
  },
  {
   "cell_type": "code",
   "execution_count": 2,
   "metadata": {},
   "outputs": [],
   "source": [
    "doc = DocxTemplate('Template.docx')"
   ]
  },
  {
   "cell_type": "code",
   "execution_count": 8,
   "metadata": {},
   "outputs": [
    {
     "name": "stdout",
     "output_type": "stream",
     "text": [
      "  name  importe moneda\n",
      "0   CA    52000    USD\n",
      "1  CUS     2300    ARS\n",
      "2   OB    99999    COL\n"
     ]
    },
    {
     "data": {
      "text/plain": [
       "[{'name': 'CA', 'importe': 52000, 'moneda': 'USD'},\n",
       " {'name': 'CUS', 'importe': 2300, 'moneda': 'ARS'},\n",
       " {'name': 'OB', 'importe': 99999, 'moneda': 'COL'}]"
      ]
     },
     "execution_count": 8,
     "metadata": {},
     "output_type": "execute_result"
    }
   ],
   "source": [
    "# Data Simple\n",
    "nombre = 'Gianpier'\n",
    "telefono = '2233444'\n",
    "correo = 'pepe@gmail.com'\n",
    "\n",
    "# Data Frames\n",
    "info =[['CA', 52000, 'USD'],['CUS', 2300, 'ARS'],['OB', 99999, 'COL']]\n",
    "df = pd.DataFrame(info,columns=['name','importe','moneda'])\n",
    "print(df)\n",
    "\n",
    "# Si parto de un dataframe necesito pasarlo a diccionario\n",
    "dict_df = df.to_dict(orient='records')\n",
    "dict_df"
   ]
  },
  {
   "cell_type": "code",
   "execution_count": 4,
   "metadata": {},
   "outputs": [],
   "source": [
    "# Poner todos los campos en diccionario mas grande\n",
    "data = {'nombre': nombre, 'telefono': telefono, \n",
    "        'correo': correo, 'resumen': dict_df}"
   ]
  },
  {
   "cell_type": "code",
   "execution_count": 5,
   "metadata": {},
   "outputs": [],
   "source": [
    "doc.render(data)\n",
    "doc.save(f'prueba.docx')"
   ]
  }
 ],
 "metadata": {
  "kernelspec": {
   "display_name": "base",
   "language": "python",
   "name": "python3"
  },
  "language_info": {
   "codemirror_mode": {
    "name": "ipython",
    "version": 3
   },
   "file_extension": ".py",
   "mimetype": "text/x-python",
   "name": "python",
   "nbconvert_exporter": "python",
   "pygments_lexer": "ipython3",
   "version": "3.8.8"
  }
 },
 "nbformat": 4,
 "nbformat_minor": 2
}
