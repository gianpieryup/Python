{
 "cells": [
  {
   "cell_type": "markdown",
   "metadata": {},
   "source": [
    "## JSON Plano to CSV in Spark\n",
    "\n",
    "Nos llego un archivo json en texto plano (es decir todo en una sola linea) y deseamos convertirlo en un csv"
   ]
  },
  {
   "cell_type": "code",
   "execution_count": 2,
   "metadata": {},
   "outputs": [
    {
     "name": "stdout",
     "output_type": "stream",
     "text": [
      "Apache Spark Version :3.5.0\n"
     ]
    }
   ],
   "source": [
    "# import findspark\n",
    "# findspark.init()\n",
    "\n",
    "# Creamos la session de Spark\n",
    "import pyspark\n",
    "from pyspark.sql import SparkSession\n",
    "from pyspark.sql.types import *\n",
    "from pyspark.sql.functions import *\n",
    "import os\n",
    "\n",
    "spark = SparkSession.builder.getOrCreate()\n",
    "print('Apache Spark Version :' + spark.sparkContext.version)"
   ]
  },
  {
   "cell_type": "markdown",
   "metadata": {},
   "source": [
    "### Formato\n",
    "\n",
    "Si el archivo JSON tiene saltos de linea especificar la opcion `multiLine` en `True`\n",
    "\n",
    "El formato del archivo JSON tiene que ser todos string, por defecto.(Esto para no entrar en conflictos y mantenerlo de forma generalizada, si es necesario algun otro tipo de dato se tiene que tener presente los distintos tipos de datos que maneja Spark)"
   ]
  },
  {
   "cell_type": "code",
   "execution_count": 11,
   "metadata": {},
   "outputs": [
    {
     "name": "stdout",
     "output_type": "stream",
     "text": [
      "root\n",
      " |-- records: array (nullable = true)\n",
      " |    |-- element: struct (containsNull = true)\n",
      " |    |    |-- email: string (nullable = true)\n",
      " |    |    |-- first_name: string (nullable = true)\n",
      " |    |    |-- gender: string (nullable = true)\n",
      " |    |    |-- id: string (nullable = true)\n",
      " |    |    |-- importe: string (nullable = true)\n",
      " |    |    |-- last_name: string (nullable = true)\n",
      "\n"
     ]
    }
   ],
   "source": [
    "path = \"struct_1.json\"\n",
    "peopleDF = spark.read.json(path, multiLine=True)\n",
    "\n",
    "peopleDF.printSchema()"
   ]
  },
  {
   "cell_type": "markdown",
   "metadata": {},
   "source": [
    "### Schema format Pyspark"
   ]
  },
  {
   "cell_type": "code",
   "execution_count": 12,
   "metadata": {},
   "outputs": [
    {
     "data": {
      "text/plain": [
       "StructType([StructField('records', ArrayType(StructType([StructField('email', StringType(), True), StructField('first_name', StringType(), True), StructField('gender', StringType(), True), StructField('id', StringType(), True), StructField('importe', StringType(), True), StructField('last_name', StringType(), True)]), True), True)])"
      ]
     },
     "execution_count": 12,
     "metadata": {},
     "output_type": "execute_result"
    }
   ],
   "source": [
    "json_schema = peopleDF.schema\n",
    "json_schema"
   ]
  },
  {
   "cell_type": "markdown",
   "metadata": {},
   "source": [
    "### Ejemplo de seguimiento\n",
    "\n",
    "Ya importado el schema solo hay que pasarle por variable como lo haciamos en los otros ejemplos"
   ]
  },
  {
   "cell_type": "code",
   "execution_count": 13,
   "metadata": {},
   "outputs": [
    {
     "name": "stdout",
     "output_type": "stream",
     "text": [
      "root\n",
      " |-- records: array (nullable = true)\n",
      " |    |-- element: struct (containsNull = true)\n",
      " |    |    |-- email: string (nullable = true)\n",
      " |    |    |-- first_name: string (nullable = true)\n",
      " |    |    |-- gender: string (nullable = true)\n",
      " |    |    |-- id: string (nullable = true)\n",
      " |    |    |-- importe: string (nullable = true)\n",
      " |    |    |-- last_name: string (nullable = true)\n",
      "\n"
     ]
    }
   ],
   "source": [
    "df_json = spark.read.text(\"filejsonplano.csv\")\n",
    "df = df_json.withColumn(\"parsed_data\", from_json(df_json[\"value\"], json_schema))\\\n",
    "                .select(\"parsed_data.*\")\n",
    "\n",
    "df.printSchema()"
   ]
  },
  {
   "cell_type": "code",
   "execution_count": 14,
   "metadata": {},
   "outputs": [],
   "source": [
    "df = df.withColumn(\"rec_exp\", explode_outer(\"records\"))\n",
    "df_final = df.select(col('rec_exp.*'))"
   ]
  },
  {
   "cell_type": "code",
   "execution_count": 15,
   "metadata": {},
   "outputs": [
    {
     "name": "stdout",
     "output_type": "stream",
     "text": [
      "+--------------------+----------+------+---+-------+---------+\n",
      "|               email|first_name|gender| id|importe|last_name|\n",
      "+--------------------+----------+------+---+-------+---------+\n",
      "|jpenddreth0@censu...|  Jeanette|Female|  1|   null|Penddreth|\n",
      "|gfrediani1@senate...|   Giavani|  Male|  2|   null| Frediani|\n",
      "| nbea2@imageshack.us|     Noell|Female|  3|   null|      Bea|\n",
      "|      wvalek3@vk.com|   Willard|  Male|  4|   null|    Valek|\n",
      "+--------------------+----------+------+---+-------+---------+\n",
      "\n",
      "root\n",
      " |-- email: string (nullable = true)\n",
      " |-- first_name: string (nullable = true)\n",
      " |-- gender: string (nullable = true)\n",
      " |-- id: string (nullable = true)\n",
      " |-- importe: string (nullable = true)\n",
      " |-- last_name: string (nullable = true)\n",
      "\n"
     ]
    }
   ],
   "source": [
    "df_final.show()\n",
    "df_final.printSchema()"
   ]
  },
  {
   "cell_type": "markdown",
   "metadata": {},
   "source": [
    "### JSON\n"
   ]
  },
  {
   "cell_type": "code",
   "execution_count": 2,
   "metadata": {},
   "outputs": [],
   "source": [
    "path = \"filejsonplano.csv\"\n",
    "df = spark.read.json(path)"
   ]
  },
  {
   "cell_type": "code",
   "execution_count": 3,
   "metadata": {},
   "outputs": [
    {
     "name": "stdout",
     "output_type": "stream",
     "text": [
      "root\n",
      " |-- records: array (nullable = true)\n",
      " |    |-- element: struct (containsNull = true)\n",
      " |    |    |-- email: string (nullable = true)\n",
      " |    |    |-- first_name: string (nullable = true)\n",
      " |    |    |-- gender: string (nullable = true)\n",
      " |    |    |-- id: long (nullable = true)\n",
      " |    |    |-- ip_address: string (nullable = true)\n",
      " |    |    |-- last_name: string (nullable = true)\n",
      "\n",
      "+--------------------+\n",
      "|             records|\n",
      "+--------------------+\n",
      "|[{jpenddreth0@cen...|\n",
      "+--------------------+\n",
      "\n"
     ]
    }
   ],
   "source": [
    "df.printSchema()\n",
    "df.show()"
   ]
  },
  {
   "cell_type": "code",
   "execution_count": 4,
   "metadata": {},
   "outputs": [],
   "source": [
    "df = df.withColumn(\"rec_exp\", explode_outer(\"records\"))\n",
    "df_final = df.select(col('rec_exp.*'))"
   ]
  },
  {
   "cell_type": "code",
   "execution_count": 5,
   "metadata": {},
   "outputs": [
    {
     "name": "stdout",
     "output_type": "stream",
     "text": [
      "root\n",
      " |-- email: string (nullable = true)\n",
      " |-- first_name: string (nullable = true)\n",
      " |-- gender: string (nullable = true)\n",
      " |-- id: long (nullable = true)\n",
      " |-- ip_address: string (nullable = true)\n",
      " |-- last_name: string (nullable = true)\n",
      "\n",
      "+--------------------+----------+------+---+--------------+---------+\n",
      "|               email|first_name|gender| id|    ip_address|last_name|\n",
      "+--------------------+----------+------+---+--------------+---------+\n",
      "|jpenddreth0@censu...|  Jeanette|Female|  1|   26.58.193.2|Penddreth|\n",
      "|gfrediani1@senate...|   Giavani|  Male|  2| 229.179.4.212| Frediani|\n",
      "| nbea2@imageshack.us|     Noell|Female|  3|180.66.162.255|      Bea|\n",
      "|      wvalek3@vk.com|   Willard|  Male|  4|  67.76.188.26|    Valek|\n",
      "+--------------------+----------+------+---+--------------+---------+\n",
      "\n"
     ]
    }
   ],
   "source": [
    "df_final.printSchema()\n",
    "df_final.show()"
   ]
  },
  {
   "cell_type": "code",
   "execution_count": 6,
   "metadata": {},
   "outputs": [],
   "source": [
    "path = \"struct_2.csv\"\n",
    "df = spark.read.json(path)"
   ]
  },
  {
   "cell_type": "code",
   "execution_count": 7,
   "metadata": {},
   "outputs": [
    {
     "name": "stdout",
     "output_type": "stream",
     "text": [
      "root\n",
      " |-- email: string (nullable = true)\n",
      " |-- first_name: string (nullable = true)\n",
      " |-- gender: string (nullable = true)\n",
      " |-- id: long (nullable = true)\n",
      " |-- ip_address: string (nullable = true)\n",
      " |-- last_name: string (nullable = true)\n",
      "\n",
      "+--------------------+----------+------+---+--------------+---------+\n",
      "|               email|first_name|gender| id|    ip_address|last_name|\n",
      "+--------------------+----------+------+---+--------------+---------+\n",
      "|jpenddreth0@censu...|  Jeanette|Female|  1|   26.58.193.2|Penddreth|\n",
      "|gfrediani1@senate...|   Giavani|  Male|  2| 229.179.4.212| Frediani|\n",
      "| nbea2@imageshack.us|     Noell|Female|  3|180.66.162.255|      Bea|\n",
      "|      wvalek3@vk.com|   Willard|  Male|  4|  67.76.188.26|    Valek|\n",
      "+--------------------+----------+------+---+--------------+---------+\n",
      "\n"
     ]
    }
   ],
   "source": [
    "df.printSchema()\n",
    "df.show()"
   ]
  },
  {
   "cell_type": "code",
   "execution_count": 14,
   "metadata": {},
   "outputs": [],
   "source": [
    "path = \"s3.json\"\n",
    "df = spark.read.json(path, multiLine=True)"
   ]
  },
  {
   "cell_type": "code",
   "execution_count": 15,
   "metadata": {},
   "outputs": [
    {
     "name": "stdout",
     "output_type": "stream",
     "text": [
      "root\n",
      " |-- email: string (nullable = true)\n",
      " |-- first_name: string (nullable = true)\n",
      " |-- gender: string (nullable = true)\n",
      " |-- id: long (nullable = true)\n",
      " |-- ip_address: string (nullable = true)\n",
      " |-- last_name: string (nullable = true)\n",
      "\n",
      "+--------------------+----------+------+---+--------------+---------+\n",
      "|               email|first_name|gender| id|    ip_address|last_name|\n",
      "+--------------------+----------+------+---+--------------+---------+\n",
      "|jpenddreth0@censu...|  Jeanette|Female|  1|   26.58.193.2|Penddreth|\n",
      "|gfrediani1@senate...|   Giavani|  Male|  2| 229.179.4.212| Frediani|\n",
      "| nbea2@imageshack.us|     Noell|Female|  3|180.66.162.255|      Bea|\n",
      "|      wvalek3@vk.com|   Willard|  Male|  4|  67.76.188.26|    Valek|\n",
      "+--------------------+----------+------+---+--------------+---------+\n",
      "\n"
     ]
    }
   ],
   "source": [
    "df.printSchema()\n",
    "df.show()"
   ]
  },
  {
   "cell_type": "code",
   "execution_count": 16,
   "metadata": {},
   "outputs": [],
   "source": [
    "path = \"xx.json\"\n",
    "df = spark.read.json(path, multiLine=True)"
   ]
  },
  {
   "cell_type": "code",
   "execution_count": 17,
   "metadata": {},
   "outputs": [
    {
     "name": "stdout",
     "output_type": "stream",
     "text": [
      "root\n",
      " |-- records: array (nullable = true)\n",
      " |    |-- element: struct (containsNull = true)\n",
      " |    |    |-- email: string (nullable = true)\n",
      " |    |    |-- first_name: string (nullable = true)\n",
      " |    |    |-- gender: string (nullable = true)\n",
      " |    |    |-- id: long (nullable = true)\n",
      " |    |    |-- ip_address: string (nullable = true)\n",
      " |    |    |-- last_name: string (nullable = true)\n",
      "\n",
      "+--------------------+\n",
      "|             records|\n",
      "+--------------------+\n",
      "|[{jpenddreth0@cen...|\n",
      "+--------------------+\n",
      "\n"
     ]
    }
   ],
   "source": [
    "df.printSchema()\n",
    "df.show()"
   ]
  },
  {
   "cell_type": "code",
   "execution_count": 18,
   "metadata": {},
   "outputs": [],
   "source": [
    "df = df.withColumn(\"rec_exp\", explode_outer(\"records\"))\n",
    "df_final = df.select(col('rec_exp.*'))"
   ]
  },
  {
   "cell_type": "code",
   "execution_count": 19,
   "metadata": {},
   "outputs": [
    {
     "name": "stdout",
     "output_type": "stream",
     "text": [
      "+--------------------+----------+------+---+--------------+---------+\n",
      "|               email|first_name|gender| id|    ip_address|last_name|\n",
      "+--------------------+----------+------+---+--------------+---------+\n",
      "|jpenddreth0@censu...|  Jeanette|Female|  1|   26.58.193.2|Penddreth|\n",
      "|gfrediani1@senate...|   Giavani|  Male|  2| 229.179.4.212| Frediani|\n",
      "| nbea2@imageshack.us|     Noell|Female|  3|180.66.162.255|      Bea|\n",
      "|      wvalek3@vk.com|   Willard|  Male|  4|  67.76.188.26|    Valek|\n",
      "+--------------------+----------+------+---+--------------+---------+\n",
      "\n",
      "root\n",
      " |-- email: string (nullable = true)\n",
      " |-- first_name: string (nullable = true)\n",
      " |-- gender: string (nullable = true)\n",
      " |-- id: long (nullable = true)\n",
      " |-- ip_address: string (nullable = true)\n",
      " |-- last_name: string (nullable = true)\n",
      "\n"
     ]
    }
   ],
   "source": [
    "df_final.show()\n",
    "df_final.printSchema()"
   ]
  },
  {
   "cell_type": "code",
   "execution_count": 19,
   "metadata": {},
   "outputs": [],
   "source": [
    "df = spark.read.text(\"s4.csv\")"
   ]
  },
  {
   "cell_type": "code",
   "execution_count": 20,
   "metadata": {},
   "outputs": [],
   "source": [
    "# value se llama la columna, en mi caso es json\n",
    "df_replace = df.withColumn('value', regexp_replace('value', '\\};\\{', '\\}|\\{'))"
   ]
  },
  {
   "cell_type": "code",
   "execution_count": 24,
   "metadata": {},
   "outputs": [
    {
     "name": "stdout",
     "output_type": "stream",
     "text": [
      "+----------------------------------------------------------------------------------------------------------------------------------------------------------------------------------------------------------------------------------------------------------------------------------------------------------------------------------------------------------------------------------------------------------------------------------------------------------------------------------------------------------------------------------------+\n",
      "|value                                                                                                                                                                                                                                                                                                                                                                                                                                                                                                                                   |\n",
      "+----------------------------------------------------------------------------------------------------------------------------------------------------------------------------------------------------------------------------------------------------------------------------------------------------------------------------------------------------------------------------------------------------------------------------------------------------------------------------------------------------------------------------------------+\n",
      "|{\"id\":1,\"first_name\":\"Jeanette\",\"last_name\":\"Penddreth\",\"email\":\"jpenddreth0@census.gov\",\"gender\":\"Female\",\"ip_address\":\"26.58.193.2\"}|{\"id\":2,\"first_name\":\"Giavani\",\"last_name\":\"Frediani\",\"email\":\"gfrediani1@senate.gov\",\"gender\":\"Male\",\"ip_address\":\"229.179.4.212\"}|{\"id\":3,\"first_name\":\"Noell\",\"last_name\":\"Bea\",\"email\":\"nbea2@imageshack.us\",\"gender\":\"Female\",\"ip_address\":\"180.66.162.255\"}|{\"id\":4,\"first_name\":\"Willard;howard\",\"last_name\":\"Valek\",\"email\":\"wvalek3@vk.com\",\"gender\":\"Male\",\"ip_address\":\"67.76.188.26\"}|\n",
      "+----------------------------------------------------------------------------------------------------------------------------------------------------------------------------------------------------------------------------------------------------------------------------------------------------------------------------------------------------------------------------------------------------------------------------------------------------------------------------------------------------------------------------------------+\n",
      "\n"
     ]
    }
   ],
   "source": [
    "df_replace.show(20, False)"
   ]
  },
  {
   "cell_type": "code",
   "execution_count": 29,
   "metadata": {},
   "outputs": [],
   "source": [
    "df_final = df_replace.withColumn('value_explode', explode(split(df_replace.value, '\\|')))"
   ]
  },
  {
   "cell_type": "code",
   "execution_count": 30,
   "metadata": {},
   "outputs": [
    {
     "name": "stdout",
     "output_type": "stream",
     "text": [
      "+--------------------------------------------------------------------------------------------------------------------------------------+\n",
      "|value_explode                                                                                                                         |\n",
      "+--------------------------------------------------------------------------------------------------------------------------------------+\n",
      "|{\"id\":1,\"first_name\":\"Jeanette\",\"last_name\":\"Penddreth\",\"email\":\"jpenddreth0@census.gov\",\"gender\":\"Female\",\"ip_address\":\"26.58.193.2\"}|\n",
      "|{\"id\":2,\"first_name\":\"Giavani\",\"last_name\":\"Frediani\",\"email\":\"gfrediani1@senate.gov\",\"gender\":\"Male\",\"ip_address\":\"229.179.4.212\"}   |\n",
      "|{\"id\":3,\"first_name\":\"Noell\",\"last_name\":\"Bea\",\"email\":\"nbea2@imageshack.us\",\"gender\":\"Female\",\"ip_address\":\"180.66.162.255\"}         |\n",
      "|{\"id\":4,\"first_name\":\"Willard;howard\",\"last_name\":\"Valek\",\"email\":\"wvalek3@vk.com\",\"gender\":\"Male\",\"ip_address\":\"67.76.188.26\"}       |\n",
      "+--------------------------------------------------------------------------------------------------------------------------------------+\n",
      "\n"
     ]
    }
   ],
   "source": [
    "df_final.select(df_final.value_explode).show(20, False)"
   ]
  },
  {
   "cell_type": "markdown",
   "metadata": {},
   "source": [
    "<hr>"
   ]
  },
  {
   "cell_type": "markdown",
   "metadata": {},
   "source": [
    "## Issues\n",
    "\n",
    "No importa la comilla simple o doble, lo que hay que parsear es el `False, None` porque se corrompe el json.\n",
    "\n",
    "Basicamente porque no son palabras reservadas de json, si no mas bien de Python"
   ]
  },
  {
   "cell_type": "code",
   "execution_count": 5,
   "metadata": {},
   "outputs": [
    {
     "name": "stdout",
     "output_type": "stream",
     "text": [
      "+---------------------------------------------------------------------------------------------------------------------------------------------------------------------------------------------------+\n",
      "|value                                                                                                                                                                                              |\n",
      "+---------------------------------------------------------------------------------------------------------------------------------------------------------------------------------------------------+\n",
      "|{'_id': ObjectId('507f191e810c19729de860ea'),  'id':1,'first_name':'Jeanette','last_name':'Penddreth','email':'jpenddreth0@census.gov','gender':'Female','ip_address':'26.58.193.2', 'eschd': True}|\n",
      "|{'_id': ObjectId('507f191e810c-19729de860ea'), 'id':2,'first_name':'Giavani','last_name':'Frediani','email':'gfrediani1@senate.gov','gender':'Male','ip_address':'229.179.4.212'}                  |\n",
      "|{'_id': ObjectId('507f19-1e810c19729de860ea'), 'id':3,'first_name':'Noell','last_name':'Bea','email':'nbea2@imageshack.us','gender':'Female','ip_address':'180.66.162.255', 'eschd': None}         |\n",
      "|{'_id': ObjectId('507f191e810c19729de-860ea'), 'id':4,'first_name':'Willard','last_name':'Valek','email':'wvalek3@vk.com','gender':'Male','ip_address':'67.76.188.26'}                             |\n",
      "+---------------------------------------------------------------------------------------------------------------------------------------------------------------------------------------------------+\n",
      "\n"
     ]
    }
   ],
   "source": [
    "import os\n",
    "base_path = \"/home/jovyan/work\"\n",
    "csv_path = os.path.join(base_path, 'data/struct_3.csv')\n",
    "\n",
    "df_json = spark.read.text(csv_path)\n",
    "df_json.show(20, False)"
   ]
  },
  {
   "cell_type": "code",
   "execution_count": 6,
   "metadata": {},
   "outputs": [
    {
     "name": "stdout",
     "output_type": "stream",
     "text": [
      "+-----------------------------------------------------------------------------------------------------------------------------------------------------------------------------------------------------+\n",
      "|value                                                                                                                                                                                                |\n",
      "+-----------------------------------------------------------------------------------------------------------------------------------------------------------------------------------------------------+\n",
      "|{'_id': ObjectId('507f191e810c19729de860ea'),  'id':1,'first_name':'Jeanette','last_name':'Penddreth','email':'jpenddreth0@census.gov','gender':'Female','ip_address':'26.58.193.2', 'eschd': \"True\"}|\n",
      "|{'_id': ObjectId('507f191e810c-19729de860ea'), 'id':2,'first_name':'Giavani','last_name':'Frediani','email':'gfrediani1@senate.gov','gender':'Male','ip_address':'229.179.4.212'}                    |\n",
      "|{'_id': ObjectId('507f19-1e810c19729de860ea'), 'id':3,'first_name':'Noell','last_name':'Bea','email':'nbea2@imageshack.us','gender':'Female','ip_address':'180.66.162.255', 'eschd': \"None\"}         |\n",
      "|{'_id': ObjectId('507f191e810c19729de-860ea'), 'id':4,'first_name':'Willard','last_name':'Valek','email':'wvalek3@vk.com','gender':'Male','ip_address':'67.76.188.26'}                               |\n",
      "+-----------------------------------------------------------------------------------------------------------------------------------------------------------------------------------------------------+\n",
      "\n"
     ]
    }
   ],
   "source": [
    "# Caso 1: Cambiamos el formato de la columna value para que sea un JSON válido\n",
    "df_json = df_json.select(regexp_replace(df_json.value, 'True', '\"True\"').alias('value'))\n",
    "df_json = df_json.select(regexp_replace(df_json.value, 'None', '\"None\"').alias('value'))\n",
    "df_json.show(20, False)"
   ]
  },
  {
   "cell_type": "code",
   "execution_count": 7,
   "metadata": {},
   "outputs": [
    {
     "name": "stdout",
     "output_type": "stream",
     "text": [
      "+-------------------------------------------------------------------------------------------------------------------------------------------------------------------------------------------+\n",
      "|value                                                                                                                                                                                      |\n",
      "+-------------------------------------------------------------------------------------------------------------------------------------------------------------------------------------------+\n",
      "|{'_id': '507f191e810c19729de860ea',  'id':1,'first_name':'Jeanette','last_name':'Penddreth','email':'jpenddreth0@census.gov','gender':'Female','ip_address':'26.58.193.2', 'eschd': \"True\"}|\n",
      "|{'_id': '507f191e810c-19729de860ea', 'id':2,'first_name':'Giavani','last_name':'Frediani','email':'gfrediani1@senate.gov','gender':'Male','ip_address':'229.179.4.212'}                    |\n",
      "|{'_id': '507f19-1e810c19729de860ea', 'id':3,'first_name':'Noell','last_name':'Bea','email':'nbea2@imageshack.us','gender':'Female','ip_address':'180.66.162.255', 'eschd': \"None\"}         |\n",
      "|{'_id': '507f191e810c19729de-860ea', 'id':4,'first_name':'Willard','last_name':'Valek','email':'wvalek3@vk.com','gender':'Male','ip_address':'67.76.188.26'}                               |\n",
      "+-------------------------------------------------------------------------------------------------------------------------------------------------------------------------------------------+\n",
      "\n"
     ]
    }
   ],
   "source": [
    "# Caso 2: Cambiamos el formato de la columna ObjectId para que sea un JSON válido\n",
    "df_json = df_json.select(regexp_replace(df_json.value, \n",
    "                                        r'ObjectId\\((.+?)\\)',\n",
    "                                        regexp_extract(df_json.value, r'ObjectId\\((.+?)\\),', 1)).alias('value'))\n",
    "df_json.show(20, False)"
   ]
  },
  {
   "cell_type": "code",
   "execution_count": 8,
   "metadata": {},
   "outputs": [
    {
     "name": "stdout",
     "output_type": "stream",
     "text": [
      "+-------------------------+---+----------+---------+----------------------+------+--------------+-----+\n",
      "|_id                      |id |first_name|last_name|email                 |gender|ip_address    |eschd|\n",
      "+-------------------------+---+----------+---------+----------------------+------+--------------+-----+\n",
      "|507f191e810c19729de860ea |1  |Jeanette  |Penddreth|jpenddreth0@census.gov|Female|26.58.193.2   |True |\n",
      "|507f191e810c-19729de860ea|2  |Giavani   |Frediani |gfrediani1@senate.gov |Male  |229.179.4.212 |NULL |\n",
      "|507f19-1e810c19729de860ea|3  |Noell     |Bea      |nbea2@imageshack.us   |Female|180.66.162.255|None |\n",
      "|507f191e810c19729de-860ea|4  |Willard   |Valek    |wvalek3@vk.com        |Male  |67.76.188.26  |NULL |\n",
      "+-------------------------+---+----------+---------+----------------------+------+--------------+-----+\n",
      "\n"
     ]
    }
   ],
   "source": [
    "json_schema = StructType([\n",
    "    StructField('_id', StringType(), True),\n",
    "    StructField('id', StringType(), True),\n",
    "    StructField('first_name', StringType(), True),\n",
    "    StructField('last_name', StringType(), True),\n",
    "    StructField('email', StringType(), True),\n",
    "    StructField('gender', StringType(), True),\n",
    "    StructField('ip_address', StringType(), True),\n",
    "    StructField('eschd', StringType(), True),\n",
    "])\n",
    "\n",
    "df = df_json.withColumn(\"parsed_data\", from_json(df_json[\"value\"], json_schema))\\\n",
    "                .select(\"parsed_data.*\")\n",
    "\n",
    "df.show(20, False)"
   ]
  }
 ],
 "metadata": {
  "kernelspec": {
   "display_name": "Python 3 (ipykernel)",
   "language": "python",
   "name": "python3"
  },
  "language_info": {
   "codemirror_mode": {
    "name": "ipython",
    "version": 3
   },
   "file_extension": ".py",
   "mimetype": "text/x-python",
   "name": "python",
   "nbconvert_exporter": "python",
   "pygments_lexer": "ipython3",
   "version": "3.11.6"
  }
 },
 "nbformat": 4,
 "nbformat_minor": 2
}
