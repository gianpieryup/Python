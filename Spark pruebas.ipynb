{
 "cells": [
  {
   "cell_type": "markdown",
   "id": "4fe3d548",
   "metadata": {},
   "source": [
    "# Campo Lista Spark"
   ]
  },
  {
   "cell_type": "markdown",
   "id": "f4bf6279",
   "metadata": {},
   "source": [
    "Para usar pyspark en una notebook debemos tener"
   ]
  },
  {
   "cell_type": "code",
   "execution_count": 2,
   "id": "d8cdceee",
   "metadata": {},
   "outputs": [
    {
     "name": "stdout",
     "output_type": "stream",
     "text": [
      "Collecting findspark\n",
      "  Downloading findspark-2.0.1-py2.py3-none-any.whl (4.4 kB)\n",
      "Installing collected packages: findspark\n",
      "Successfully installed findspark-2.0.1\n",
      "Note: you may need to restart the kernel to use updated packages.\n"
     ]
    }
   ],
   "source": [
    "#pip install findspark"
   ]
  },
  {
   "cell_type": "code",
   "execution_count": 1,
   "id": "e9bdfe92",
   "metadata": {},
   "outputs": [],
   "source": [
    "import findspark\n",
    "findspark.init()"
   ]
  },
  {
   "cell_type": "code",
   "execution_count": 2,
   "id": "69108065",
   "metadata": {},
   "outputs": [],
   "source": [
    "# Creamos la session de Spark\n",
    "import pyspark\n",
    "from pyspark.sql import SparkSession\n",
    "from pyspark.sql.types import StructType, StructField, StringType, ArrayType\n",
    "from pyspark.sql.functions import *\n",
    "\n",
    "spark = SparkSession.builder.getOrCreate()\n",
    "\n",
    "sc = spark.sparkContext"
   ]
  },
  {
   "cell_type": "markdown",
   "id": "61cde081",
   "metadata": {},
   "source": [
    "### Ejemplo\n",
    "\n",
    "Les comparto un campo de ejemplo de una tabla con este tipo de estructura, como veran es un string plano"
   ]
  },
  {
   "cell_type": "code",
   "execution_count": 3,
   "id": "f1047a0a",
   "metadata": {},
   "outputs": [
    {
     "name": "stdout",
     "output_type": "stream",
     "text": [
      "+-----------+-------------------------+--------------+\n",
      "|  cuit_cuil|actividad_regimen_general|partition_date|\n",
      "+-----------+-------------------------+--------------+\n",
      "|27200000000|                         |    2023-05-01|\n",
      "|27206500000|                     null|    2023-05-01|\n",
      "|27206512800|                       []|    2023-05-01|\n",
      "|20330161532|     [{\"descripcionAct...|    2023-05-01|\n",
      "+-----------+-------------------------+--------------+\n",
      "\n"
     ]
    }
   ],
   "source": [
    "l = [(\"27200000000\",\"\", \"2023-05-01\"),\n",
    "     (\"27206500000\",\"null\", \"2023-05-01\"),\n",
    "     (\"27206512800\",\"[]\", \"2023-05-01\"),\n",
    "     (\"20330161532\",'[{\"descripcionActividad\":\"CULTIVO DE CEREALES N.C.P., EXCEPTO LOS DE USO FORRAJERO\",\"idActividad\":11119.0,\"nomenclador\":883.0,\"orden\":3.0,\"periodo\":202105.0},{\"descripcionActividad\":\"VENTA AL POR MENOR DE PRODUCTOS COSMÉTICOS, DE TOCADOR Y DE PERFUMERÍA\",\"idActividad\":477320.0,\"nomenclador\":883.0,\"orden\":1.0,\"periodo\":202105.0},{\"descripcionActividad\":\"SERVICIOS DE ASESORAMIENTO, DIRECCIÓN Y GESTIÓN EMPRESARIAL N.C.P.\",\"idActividad\":702099.0,\"nomenclador\":883.0,\"orden\":2.0,\"periodo\":202103.0}]',\"2023-05-01\")]\n",
    "\n",
    "\n",
    "df_json=spark.createDataFrame(l,[\"cuit_cuil\",\"actividad_regimen_general\",\"partition_date\"])\n",
    "df_json.show()"
   ]
  },
  {
   "cell_type": "markdown",
   "id": "3de898d7",
   "metadata": {},
   "source": [
    "Bueno, ya tenemos la columna en un dataframe (este paso anterior no sera necesario porque ustedes se conectan al lago)\n",
    "\n",
    "Ahora vamos a pasarle la estructura que deberia tener este texto plano, que es **como queremos que se comporte**\n",
    "\n",
    "Al verlo intuimos lo siguiente: Una lista de estructuras, la cual se escribe en SPARK de la siguiente forma"
   ]
  },
  {
   "cell_type": "code",
   "execution_count": 4,
   "id": "24c7d7fd",
   "metadata": {},
   "outputs": [],
   "source": [
    "schema = ArrayType(StructType(\n",
    "      [\n",
    "        StructField('descripcionActividad',  StringType(), True ),\n",
    "        StructField('idActividad', StringType(), True),\n",
    "        StructField('nomenclador', StringType(), True),\n",
    "        StructField('orden', StringType(), True),\n",
    "        StructField('periodo', StringType(), True)\n",
    "      ]\n",
    "    ))"
   ]
  },
  {
   "cell_type": "code",
   "execution_count": 5,
   "id": "f6176137",
   "metadata": {},
   "outputs": [
    {
     "name": "stdout",
     "output_type": "stream",
     "text": [
      "+-----------+-------------------------+--------------+--------------------+\n",
      "|  cuit_cuil|actividad_regimen_general|partition_date|                 act|\n",
      "+-----------+-------------------------+--------------+--------------------+\n",
      "|27200000000|                         |    2023-05-01|                null|\n",
      "|27206500000|                     null|    2023-05-01|                null|\n",
      "|27206512800|                       []|    2023-05-01|                  []|\n",
      "|20330161532|     [{\"descripcionAct...|    2023-05-01|[{CULTIVO DE CERE...|\n",
      "+-----------+-------------------------+--------------+--------------------+\n",
      "\n"
     ]
    }
   ],
   "source": [
    "mapped_df = df_json.withColumn(\"act\",from_json(\"actividad_regimen_general\", schema))\n",
    "mapped_df.show()"
   ]
  },
  {
   "cell_type": "code",
   "execution_count": 6,
   "id": "c8830a65",
   "metadata": {},
   "outputs": [
    {
     "name": "stdout",
     "output_type": "stream",
     "text": [
      "root\n",
      " |-- cuit_cuil: string (nullable = true)\n",
      " |-- actividad_regimen_general: string (nullable = true)\n",
      " |-- partition_date: string (nullable = true)\n",
      " |-- act: array (nullable = true)\n",
      " |    |-- element: struct (containsNull = true)\n",
      " |    |    |-- descripcionActividad: string (nullable = true)\n",
      " |    |    |-- idActividad: string (nullable = true)\n",
      " |    |    |-- nomenclador: string (nullable = true)\n",
      " |    |    |-- orden: string (nullable = true)\n",
      " |    |    |-- periodo: string (nullable = true)\n",
      "\n"
     ]
    }
   ],
   "source": [
    "mapped_df.printSchema()"
   ]
  },
  {
   "cell_type": "markdown",
   "id": "789624f4",
   "metadata": {},
   "source": [
    "## Desarmar la Lista\n",
    "\n",
    "Ahora con la funcion `explode` directamente al campo, creara un nuevo registro por cada elemento de la lista\n",
    "\n",
    "- [explode_outer](https://stackoverflow.com/questions/39739072/spark-sql-how-to-explode-without-losing-null-values) : *Spark 2.2+*"
   ]
  },
  {
   "cell_type": "code",
   "execution_count": 7,
   "id": "07489693",
   "metadata": {},
   "outputs": [
    {
     "name": "stdout",
     "output_type": "stream",
     "text": [
      "+-----------+-------------------------+--------------+--------------------+--------------------+\n",
      "|  cuit_cuil|actividad_regimen_general|partition_date|                 act|             act_exp|\n",
      "+-----------+-------------------------+--------------+--------------------+--------------------+\n",
      "|27200000000|                         |    2023-05-01|                null|                null|\n",
      "|27206500000|                     null|    2023-05-01|                null|                null|\n",
      "|27206512800|                       []|    2023-05-01|                  []|                null|\n",
      "|20330161532|     [{\"descripcionAct...|    2023-05-01|[{CULTIVO DE CERE...|{CULTIVO DE CEREA...|\n",
      "|20330161532|     [{\"descripcionAct...|    2023-05-01|[{CULTIVO DE CERE...|{VENTA AL POR MEN...|\n",
      "|20330161532|     [{\"descripcionAct...|    2023-05-01|[{CULTIVO DE CERE...|{SERVICIOS DE ASE...|\n",
      "+-----------+-------------------------+--------------+--------------------+--------------------+\n",
      "\n"
     ]
    }
   ],
   "source": [
    "df = mapped_df.withColumn(\"act_exp\", explode_outer(\"act\"))\n",
    "df.show()"
   ]
  },
  {
   "cell_type": "markdown",
   "id": "99096698",
   "metadata": {},
   "source": [
    "Para acceder a los campos dentro de las estructuras\n",
    "\n",
    "Usamos la notacion punto `(\"x.y\")`   "
   ]
  },
  {
   "cell_type": "code",
   "execution_count": 8,
   "id": "56880f10",
   "metadata": {},
   "outputs": [
    {
     "name": "stdout",
     "output_type": "stream",
     "text": [
      "+-----------+--------------------+-----+--------+\n",
      "|  cuit_cuil|descripcionActividad|orden| periodo|\n",
      "+-----------+--------------------+-----+--------+\n",
      "|27200000000|                null| null|    null|\n",
      "|27206500000|                null| null|    null|\n",
      "|27206512800|                null| null|    null|\n",
      "|20330161532|CULTIVO DE CEREAL...|  3.0|202105.0|\n",
      "|20330161532|VENTA AL POR MENO...|  1.0|202105.0|\n",
      "|20330161532|SERVICIOS DE ASES...|  2.0|202103.0|\n",
      "+-----------+--------------------+-----+--------+\n",
      "\n"
     ]
    }
   ],
   "source": [
    "df.select(\"cuit_cuil\",\"act_exp.descripcionActividad\",\"act_exp.orden\",\"act_exp.periodo\").show()"
   ]
  },
  {
   "cell_type": "code",
   "execution_count": 9,
   "id": "3398e178",
   "metadata": {},
   "outputs": [
    {
     "name": "stdout",
     "output_type": "stream",
     "text": [
      "+-----------+--------------------+-----------+-----------+-----+--------+\n",
      "|  cuit_cuil|descripcionActividad|idActividad|nomenclador|orden| periodo|\n",
      "+-----------+--------------------+-----------+-----------+-----+--------+\n",
      "|27200000000|                null|       null|       null| null|    null|\n",
      "|27206500000|                null|       null|       null| null|    null|\n",
      "|27206512800|                null|       null|       null| null|    null|\n",
      "|20330161532|CULTIVO DE CEREAL...|    11119.0|      883.0|  3.0|202105.0|\n",
      "|20330161532|VENTA AL POR MENO...|   477320.0|      883.0|  1.0|202105.0|\n",
      "|20330161532|SERVICIOS DE ASES...|   702099.0|      883.0|  2.0|202103.0|\n",
      "+-----------+--------------------+-----------+-----------+-----+--------+\n",
      "\n"
     ]
    }
   ],
   "source": [
    "# Si quieren todo pueden usar el siempre u confiable (*)\n",
    "df.select(\"cuit_cuil\",\"act_exp.*\").show()"
   ]
  }
 ],
 "metadata": {
  "kernelspec": {
   "display_name": "Python 3 (ipykernel)",
   "language": "python",
   "name": "python3"
  },
  "language_info": {
   "codemirror_mode": {
    "name": "ipython",
    "version": 3
   },
   "file_extension": ".py",
   "mimetype": "text/x-python",
   "name": "python",
   "nbconvert_exporter": "python",
   "pygments_lexer": "ipython3",
   "version": "3.8.8"
  }
 },
 "nbformat": 4,
 "nbformat_minor": 5
}
